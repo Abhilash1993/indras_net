{
 "metadata": {
  "name": ""
 },
 "nbformat": 3,
 "nbformat_minor": 0,
 "worksheets": [
  {
   "cells": [
    {
     "cell_type": "heading",
     "level": 1,
     "metadata": {},
     "source": [
      "Indra: Basic Capabilities of the System"
     ]
    },
    {
     "cell_type": "markdown",
     "metadata": {},
     "source": [
      "Here we are not going to look at any actual model of anything, but rather at the basic capabilities the Indra system provides to any modeling effort. The system consists of a heirarchy of classes that give the modeler a suite of capabilities useful in <em>any</em> agent-based model. To demonstrate the system and to give people new to it basic files to clone and begin work from, Indra includes two scripts that run a simple agent system:\n",
      "basic_model.py\n",
      "basic_run.py\n",
      "\n",
      "All of our models follow this convention: one file implements the model (X_model.py), and another controls the parameters to the model and runs it (X_run.py). Let's have a look at basic_run.py and see what is in it. The comments are fairly complete as to what is going on, we hope!"
     ]
    },
    {
     "cell_type": "code",
     "collapsed": false,
     "input": [
      "!cat basic_run.py"
     ],
     "language": "python",
     "metadata": {},
     "outputs": [
      {
       "output_type": "stream",
       "stream": "stdout",
       "text": [
        "#!/usr/bin/env python3\r\n",
        "import logging\r\n",
        "import prop_args as props\r\n",
        "import entity as ent\r\n",
        "import basic_model as bm\r\n",
        "\r\n",
        "# set up some file names:\r\n",
        "MODEL_NM = \"basic_model\"\r\n",
        "PROG_NM  = MODEL_NM + \".py\"\r\n",
        "LOG_FILE = MODEL_NM + \".txt\"\r\n",
        "\r\n",
        "# We store basic parameters in a \"property\" file; this allows us to save\r\n",
        "#  multiple parameter sets, which is important in simulation work.\r\n",
        "#  We can read these in from file or set them here.\r\n",
        "read_props = False\r\n",
        "if read_props:\r\n",
        "    pa = props.PropArgs.read_props(MODEL_NM, \"basic.props\")\r\n",
        "else:\r\n",
        "    pa = props.PropArgs(MODEL_NM, logfile=LOG_FILE, props=None)\r\n",
        "    pa.set(\"model\", MODEL_NM)\r\n",
        "    pa.set(\"num_agents\", 10)\r\n",
        "    pa.set(\"user_type\", ent.User.IPYTHON_NB)\r\n",
        "\r\n",
        "# Now we create a minimal environment for our agents to act within:\r\n",
        "env = bm.BasicEnv(model_nm=MODEL_NM)\r\n",
        "# And put the environment in the properties object:\r\n",
        "pa.set(\"env\", env)\r\n",
        "\r\n",
        "# Now we loop creating multiple agents with numbered names based on the loop variable:\r\n",
        "for i in range(pa.get(\"num_agents\")):\r\n",
        "    env.add_agent(\r\n",
        "            bm.BasicAgent(name=\"agent\" + str(i),\r\n",
        "            goal=\"acting up!\"))\r\n",
        "\r\n",
        "# Logging is automatically set up for the modeler:\r\n",
        "logging.info(\"Starting program \" + PROG_NM)\r\n",
        "\r\n",
        "# And now we set things running!\r\n",
        "env.run()\r\n",
        "\r\n"
       ]
      }
     ],
     "prompt_number": 2
    },
    {
     "cell_type": "markdown",
     "metadata": {},
     "source": [
      "OK, let us run the system and see what it does:"
     ]
    },
    {
     "cell_type": "code",
     "collapsed": false,
     "input": [
      "run basic_run.py"
     ],
     "language": "python",
     "metadata": {},
     "outputs": [
      {
       "output_type": "stream",
       "stream": "stdout",
       "text": [
        "Welcome, gcallah\n",
        "Running in a basic environment to get you going\n",
        "File: (w)rite properties | e(x)amine log file | (q)uit\n",
        "Edit: (a)dd agent to env | (i)nspect agent | inspect (e)nvironment\n",
        "View: (l)ist agents | (v)isualize\n",
        "Tools: (s)tep (default) | (r)un | (d)ebug\n"
       ]
      },
      {
       "name": "stdout",
       "output_type": "stream",
       "stream": "stdout",
       "text": [
        "Choose one of the above and press Enter: q\n"
       ]
      },
      {
       "output_type": "stream",
       "stream": "stdout",
       "text": [
        "Returning to runtime environment.\n"
       ]
      }
     ],
     "prompt_number": 3
    },
    {
     "cell_type": "markdown",
     "metadata": {},
     "source": [
      "The first thing to notice in this aborted run is that the modeler gets an entire menuing system \"for free\": this is inherited from the base environment class. This menu is a simple text-based one, but it is organized to that it can be implemented in a GUI. Next, we look at what happens when we \"step\" through the simulation:"
     ]
    },
    {
     "cell_type": "code",
     "collapsed": false,
     "input": [
      "run basic_run.py"
     ],
     "language": "python",
     "metadata": {},
     "outputs": [
      {
       "output_type": "stream",
       "stream": "stdout",
       "text": [
        "Welcome, gcallah\n",
        "Running in a basic environment to get you going\n",
        "File: (w)rite properties | e(x)amine log file | (q)uit\n",
        "Edit: (a)dd agent to env | (i)nspect agent | inspect (e)nvironment\n",
        "View: (l)ist agents | (v)isualize\n",
        "Tools: (s)tep (default) | (r)un | (d)ebug\n"
       ]
      },
      {
       "name": "stdout",
       "output_type": "stream",
       "stream": "stdout",
       "text": [
        "Choose one of the above and press Enter: s\n"
       ]
      },
      {
       "output_type": "stream",
       "stream": "stdout",
       "text": [
        "Agent agent1 with a goal of acting up!\n",
        "Agent agent6 with a goal of acting up!\n",
        "Agent agent9 with a goal of acting up!\n",
        "Agent agent7 with a goal of acting up!\n",
        "Agent agent8 with a goal of acting up!\n",
        "Agent agent3 with a goal of acting up!\n",
        "Agent agent5 with a goal of acting up!\n",
        "Agent agent4 with a goal of acting up!\n",
        "Agent agent2 with a goal of acting up!\n",
        "Agent agent0 with a goal of acting up!\n",
        "File: (w)rite properties | e(x)amine log file | (q)uit\n",
        "Edit: (a)dd agent to env | (i)nspect agent | inspect (e)nvironment\n",
        "View: (l)ist agents | (v)isualize\n",
        "Tools: (s)tep (default) | (r)un | (d)ebug\n"
       ]
      },
      {
       "name": "stdout",
       "output_type": "stream",
       "stream": "stdout",
       "text": [
        "Choose one of the above and press Enter: s\n"
       ]
      },
      {
       "output_type": "stream",
       "stream": "stdout",
       "text": [
        "Agent agent9 with a goal of acting up!\n",
        "Agent agent8 with a goal of acting up!\n",
        "Agent agent4 with a goal of acting up!\n",
        "Agent agent3 with a goal of acting up!\n",
        "Agent agent0 with a goal of acting up!\n",
        "Agent agent5 with a goal of acting up!\n",
        "Agent agent7 with a goal of acting up!\n",
        "Agent agent1 with a goal of acting up!\n",
        "Agent agent6 with a goal of acting up!\n",
        "Agent agent2 with a goal of acting up!\n",
        "File: (w)rite properties | e(x)amine log file | (q)uit\n",
        "Edit: (a)dd agent to env | (i)nspect agent | inspect (e)nvironment\n",
        "View: (l)ist agents | (v)isualize\n",
        "Tools: (s)tep (default) | (r)un | (d)ebug\n"
       ]
      },
      {
       "name": "stdout",
       "output_type": "stream",
       "stream": "stdout",
       "text": [
        "Choose one of the above and press Enter: q\n"
       ]
      },
      {
       "output_type": "stream",
       "stream": "stdout",
       "text": [
        "Returning to runtime environment.\n"
       ]
      }
     ],
     "prompt_number": 4
    },
    {
     "cell_type": "markdown",
     "metadata": {},
     "source": [
      "The basic environment operation is to loop through the contained agents and call each agent's act() function. In this case, the agents just announce their name and goal. One item to note: the agents appear in random order each time through the loop. This is built into the basic environment in an efficient fashion, as usually we don't want the fact an agent happens to be first in a list to affect the outcome. Of course, because this is an object-oriented system, this behavior can be over-ridden.\n",
      "\n",
      "Let us look at a couple of other things the base environment automatically provides the modeler. For one thing, we can examine the state of any agent, and change its field values:"
     ]
    },
    {
     "cell_type": "code",
     "collapsed": false,
     "input": [
      "run basic_run.py"
     ],
     "language": "python",
     "metadata": {},
     "outputs": [
      {
       "output_type": "stream",
       "stream": "stdout",
       "text": [
        "Welcome, gcallah\n",
        "Running in a basic environment to get you going\n",
        "File: (w)rite properties | e(x)amine log file | (q)uit\n",
        "Edit: (a)dd agent to env | (i)nspect agent | inspect (e)nvironment\n",
        "View: (l)ist agents | (v)isualize\n",
        "Tools: (s)tep (default) | (r)un | (d)ebug\n"
       ]
      },
      {
       "name": "stdout",
       "output_type": "stream",
       "stream": "stdout",
       "text": [
        "Choose one of the above and press Enter: s\n"
       ]
      },
      {
       "output_type": "stream",
       "stream": "stdout",
       "text": [
        "Agent agent0 with a goal of acting up!\n",
        "Agent agent4 with a goal of acting up!\n",
        "Agent agent2 with a goal of acting up!\n",
        "Agent agent9 with a goal of acting up!\n",
        "Agent agent7 with a goal of acting up!\n",
        "Agent agent8 with a goal of acting up!\n",
        "Agent agent6 with a goal of acting up!\n",
        "Agent agent1 with a goal of acting up!\n",
        "Agent agent5 with a goal of acting up!\n",
        "Agent agent3 with a goal of acting up!\n",
        "File: (w)rite properties | e(x)amine log file | (q)uit\n",
        "Edit: (a)dd agent to env | (i)nspect agent | inspect (e)nvironment\n",
        "View: (l)ist agents | (v)isualize\n",
        "Tools: (s)tep (default) | (r)un | (d)ebug\n"
       ]
      },
      {
       "name": "stdout",
       "output_type": "stream",
       "stream": "stdout",
       "text": [
        "Choose one of the above and press Enter: i\n"
       ]
      },
      {
       "name": "stdout",
       "output_type": "stream",
       "stream": "stdout",
       "text": [
        "Type the name of the agent to inspect: agent0\n"
       ]
      },
      {
       "output_type": "stream",
       "stream": "stdout",
       "text": [
        "goal = acting up!\n",
        "name = agent0\n",
        "env = a basic environment to get you going\n",
        "prehensions = []\n"
       ]
      },
      {
       "name": "stdout",
       "output_type": "stream",
       "stream": "stdout",
       "text": [
        "Change a field's value in agent0? (y/n) y\n"
       ]
      },
      {
       "name": "stdout",
       "output_type": "stream",
       "stream": "stdout",
       "text": [
        "Which field? name\n"
       ]
      },
      {
       "name": "stdout",
       "output_type": "stream",
       "stream": "stdout",
       "text": [
        "Enter new value for name: Eugene\n"
       ]
      },
      {
       "output_type": "stream",
       "stream": "stdout",
       "text": [
        "File: (w)rite properties | e(x)amine log file | (q)uit\n",
        "Edit: (a)dd agent to env | (i)nspect agent | inspect (e)nvironment\n",
        "View: (l)ist agents | (v)isualize\n",
        "Tools: (s)tep (default) | (r)un | (d)ebug\n"
       ]
      },
      {
       "name": "stdout",
       "output_type": "stream",
       "stream": "stdout",
       "text": [
        "Choose one of the above and press Enter: s\n"
       ]
      },
      {
       "output_type": "stream",
       "stream": "stdout",
       "text": [
        "Agent agent4 with a goal of acting up!\n",
        "Agent agent8 with a goal of acting up!\n",
        "Agent agent9 with a goal of acting up!\n",
        "Agent agent1 with a goal of acting up!\n",
        "Agent agent5 with a goal of acting up!\n",
        "Agent agent7 with a goal of acting up!\n",
        "Agent agent6 with a goal of acting up!\n",
        "Agent agent2 with a goal of acting up!\n",
        "Agent agent3 with a goal of acting up!\n",
        "Agent Eugene with a goal of acting up!\n",
        "File: (w)rite properties | e(x)amine log file | (q)uit\n",
        "Edit: (a)dd agent to env | (i)nspect agent | inspect (e)nvironment\n",
        "View: (l)ist agents | (v)isualize\n",
        "Tools: (s)tep (default) | (r)un | (d)ebug\n"
       ]
      },
      {
       "name": "stdout",
       "output_type": "stream",
       "stream": "stdout",
       "text": [
        "Choose one of the above and press Enter: q\n"
       ]
      },
      {
       "output_type": "stream",
       "stream": "stdout",
       "text": [
        "Returning to runtime environment.\n"
       ]
      }
     ],
     "prompt_number": 2
    },
    {
     "cell_type": "markdown",
     "metadata": {},
     "source": [
      "While the program is running, we have changed the name of agent0 to Eugene. Obviously, that change is trivial, but the modeler could, instead, do something like change the utility function of a trader or the ethnic preferences of an agent in a segregation model. Now, let us add an agent on the fly: we will add an agent of a new type: Gozer. If you remember <em>Ghostbusters</em>, that would be Gozer the Destructor. Let's see what Gozer does."
     ]
    },
    {
     "cell_type": "code",
     "collapsed": false,
     "input": [
      "run basic_run.py"
     ],
     "language": "python",
     "metadata": {},
     "outputs": [
      {
       "output_type": "stream",
       "stream": "stdout",
       "text": [
        "Welcome, gcallah\n",
        "Running in a basic environment to get you going\n",
        "File: (w)rite properties | e(x)amine log file | (q)uit\n",
        "Edit: (a)dd agent to env | (i)nspect agent | inspect (e)nvironment\n",
        "View: (l)ist agents | (v)isualize\n",
        "Tools: (s)tep (default) | (r)un | (d)ebug\n"
       ]
      },
      {
       "name": "stdout",
       "output_type": "stream",
       "stream": "stdout",
       "text": [
        "Choose one of the above and press Enter: s\n"
       ]
      },
      {
       "output_type": "stream",
       "stream": "stdout",
       "text": [
        "Agent agent1 with a goal of acting up!\n",
        "Agent agent0 with a goal of acting up!\n",
        "Agent agent2 with a goal of acting up!\n",
        "Agent agent7 with a goal of acting up!\n",
        "Agent agent4 with a goal of acting up!\n",
        "Agent agent9 with a goal of acting up!\n",
        "Agent agent5 with a goal of acting up!\n",
        "Agent agent6 with a goal of acting up!\n",
        "Agent agent8 with a goal of acting up!\n",
        "Agent agent3 with a goal of acting up!\n",
        "File: (w)rite properties | e(x)amine log file | (q)uit\n",
        "Edit: (a)dd agent to env | (i)nspect agent | inspect (e)nvironment\n",
        "View: (l)ist agents | (v)isualize\n",
        "Tools: (s)tep (default) | (r)un | (d)ebug\n"
       ]
      },
      {
       "name": "stdout",
       "output_type": "stream",
       "stream": "stdout",
       "text": [
        "Choose one of the above and press Enter: a\n"
       ]
      },
      {
       "name": "stdout",
       "output_type": "stream",
       "stream": "stdout",
       "text": [
        "Enter constructor for agent to add: Gozer()\n"
       ]
      },
      {
       "output_type": "stream",
       "stream": "stdout",
       "text": [
        "File: (w)rite properties | e(x)amine log file | (q)uit\n",
        "Edit: (a)dd agent to env | (i)nspect agent | inspect (e)nvironment\n",
        "View: (l)ist agents | (v)isualize\n",
        "Tools: (s)tep (default) | (r)un | (d)ebug\n"
       ]
      },
      {
       "name": "stdout",
       "output_type": "stream",
       "stream": "stdout",
       "text": [
        "Choose one of the above and press Enter: s\n"
       ]
      },
      {
       "output_type": "stream",
       "stream": "stdout",
       "text": [
        "Agent agent8 with a goal of acting up!\n",
        "Agent agent2 with a goal of acting up!\n",
        "Agent agent7 with a goal of acting up!\n",
        "Agent agent0 with a goal of acting up!\n",
        "Agent agent9 with a goal of acting up!\n",
        "Agent agent3 with a goal of acting up!\n",
        "Agent Gozer with a goal of Destroy!\n",
        "Agent agent5 with a goal of acting up!\n",
        "Agent agent1 with a goal of acting up!\n",
        "Agent agent6 with a goal of acting up!\n",
        "Agent agent4 with a goal of acting up!\n",
        "Gozer has destroyed agent0!\n",
        "File: (w)rite properties | e(x)amine log file | (q)uit\n",
        "Edit: (a)dd agent to env | (i)nspect agent | inspect (e)nvironment\n",
        "View: (l)ist agents | (v)isualize\n",
        "Tools: (s)tep (default) | (r)un | (d)ebug\n"
       ]
      },
      {
       "name": "stdout",
       "output_type": "stream",
       "stream": "stdout",
       "text": [
        "Choose one of the above and press Enter: s\n"
       ]
      },
      {
       "output_type": "stream",
       "stream": "stdout",
       "text": [
        "Agent agent2 with a goal of acting up!\n",
        "Agent agent7 with a goal of acting up!\n",
        "Agent agent6 with a goal of acting up!\n",
        "Agent agent5 with a goal of acting up!\n",
        "Agent agent3 with a goal of acting up!\n",
        "Agent agent9 with a goal of acting up!\n",
        "Agent Gozer with a goal of Destroy!\n",
        "Agent agent4 with a goal of acting up!\n",
        "Agent agent8 with a goal of acting up!\n",
        "Agent agent1 with a goal of acting up!\n",
        "Gozer has destroyed agent1!\n",
        "File: (w)rite properties | e(x)amine log file | (q)uit\n",
        "Edit: (a)dd agent to env | (i)nspect agent | inspect (e)nvironment\n",
        "View: (l)ist agents | (v)isualize\n",
        "Tools: (s)tep (default) | (r)un | (d)ebug\n"
       ]
      },
      {
       "name": "stdout",
       "output_type": "stream",
       "stream": "stdout",
       "text": [
        "Choose one of the above and press Enter: s\n"
       ]
      },
      {
       "output_type": "stream",
       "stream": "stdout",
       "text": [
        "Agent Gozer with a goal of Destroy!\n",
        "Agent agent4 with a goal of acting up!\n",
        "Agent agent6 with a goal of acting up!\n",
        "Agent agent9 with a goal of acting up!\n",
        "Agent agent2 with a goal of acting up!\n",
        "Agent agent5 with a goal of acting up!\n",
        "Agent agent3 with a goal of acting up!\n",
        "Agent agent8 with a goal of acting up!\n",
        "Agent agent7 with a goal of acting up!\n",
        "Gozer has destroyed agent2!\n",
        "File: (w)rite properties | e(x)amine log file | (q)uit\n",
        "Edit: (a)dd agent to env | (i)nspect agent | inspect (e)nvironment\n",
        "View: (l)ist agents | (v)isualize\n",
        "Tools: (s)tep (default) | (r)un | (d)ebug\n"
       ]
      },
      {
       "name": "stdout",
       "output_type": "stream",
       "stream": "stdout",
       "text": [
        "Choose one of the above and press Enter: s\n"
       ]
      },
      {
       "output_type": "stream",
       "stream": "stdout",
       "text": [
        "Agent agent7 with a goal of acting up!\n",
        "Agent agent5 with a goal of acting up!\n",
        "Agent agent4 with a goal of acting up!\n",
        "Agent agent6 with a goal of acting up!\n",
        "Agent agent9 with a goal of acting up!\n",
        "Agent agent8 with a goal of acting up!\n",
        "Agent Gozer with a goal of Destroy!\n",
        "Agent agent3 with a goal of acting up!\n",
        "Gozer has destroyed agent3!\n",
        "File: (w)rite properties | e(x)amine log file | (q)uit\n",
        "Edit: (a)dd agent to env | (i)nspect agent | inspect (e)nvironment\n",
        "View: (l)ist agents | (v)isualize\n",
        "Tools: (s)tep (default) | (r)un | (d)ebug\n"
       ]
      },
      {
       "name": "stdout",
       "output_type": "stream",
       "stream": "stdout",
       "text": [
        "Choose one of the above and press Enter: s\n"
       ]
      },
      {
       "output_type": "stream",
       "stream": "stdout",
       "text": [
        "Agent agent4 with a goal of acting up!\n",
        "Agent agent6 with a goal of acting up!\n",
        "Agent Gozer with a goal of Destroy!\n",
        "Agent agent9 with a goal of acting up!\n",
        "Agent agent8 with a goal of acting up!\n",
        "Agent agent7 with a goal of acting up!\n",
        "Agent agent5 with a goal of acting up!\n",
        "Gozer has destroyed agent4!\n",
        "File: (w)rite properties | e(x)amine log file | (q)uit\n",
        "Edit: (a)dd agent to env | (i)nspect agent | inspect (e)nvironment\n",
        "View: (l)ist agents | (v)isualize\n",
        "Tools: (s)tep (default) | (r)un | (d)ebug\n"
       ]
      },
      {
       "name": "stdout",
       "output_type": "stream",
       "stream": "stdout",
       "text": [
        "Choose one of the above and press Enter: s\n"
       ]
      },
      {
       "output_type": "stream",
       "stream": "stdout",
       "text": [
        "Agent agent9 with a goal of acting up!\n",
        "Agent Gozer with a goal of Destroy!\n",
        "Agent agent8 with a goal of acting up!\n",
        "Agent agent6 with a goal of acting up!\n",
        "Agent agent7 with a goal of acting up!\n",
        "Agent agent5 with a goal of acting up!\n",
        "Gozer has destroyed agent5!\n",
        "File: (w)rite properties | e(x)amine log file | (q)uit\n",
        "Edit: (a)dd agent to env | (i)nspect agent | inspect (e)nvironment\n",
        "View: (l)ist agents | (v)isualize\n",
        "Tools: (s)tep (default) | (r)un | (d)ebug\n"
       ]
      },
      {
       "name": "stdout",
       "output_type": "stream",
       "stream": "stdout",
       "text": [
        "Choose one of the above and press Enter: s\n"
       ]
      },
      {
       "output_type": "stream",
       "stream": "stdout",
       "text": [
        "Agent agent8 with a goal of acting up!\n",
        "Agent agent9 with a goal of acting up!\n",
        "Agent agent6 with a goal of acting up!\n",
        "Agent agent7 with a goal of acting up!\n",
        "Agent Gozer with a goal of Destroy!\n",
        "Gozer has destroyed agent6!\n",
        "File: (w)rite properties | e(x)amine log file | (q)uit\n",
        "Edit: (a)dd agent to env | (i)nspect agent | inspect (e)nvironment\n",
        "View: (l)ist agents | (v)isualize\n",
        "Tools: (s)tep (default) | (r)un | (d)ebug\n"
       ]
      },
      {
       "name": "stdout",
       "output_type": "stream",
       "stream": "stdout",
       "text": [
        "Choose one of the above and press Enter: s\n"
       ]
      },
      {
       "output_type": "stream",
       "stream": "stdout",
       "text": [
        "Agent Gozer with a goal of Destroy!\n",
        "Agent agent7 with a goal of acting up!\n",
        "Agent agent9 with a goal of acting up!\n",
        "Agent agent8 with a goal of acting up!\n",
        "Gozer has destroyed agent7!\n",
        "File: (w)rite properties | e(x)amine log file | (q)uit\n",
        "Edit: (a)dd agent to env | (i)nspect agent | inspect (e)nvironment\n",
        "View: (l)ist agents | (v)isualize\n",
        "Tools: (s)tep (default) | (r)un | (d)ebug\n"
       ]
      },
      {
       "name": "stdout",
       "output_type": "stream",
       "stream": "stdout",
       "text": [
        "Choose one of the above and press Enter: s\n"
       ]
      },
      {
       "output_type": "stream",
       "stream": "stdout",
       "text": [
        "Agent agent9 with a goal of acting up!\n",
        "Agent Gozer with a goal of Destroy!\n",
        "Agent agent8 with a goal of acting up!\n",
        "Gozer has destroyed agent8!\n",
        "File: (w)rite properties | e(x)amine log file | (q)uit\n",
        "Edit: (a)dd agent to env | (i)nspect agent | inspect (e)nvironment\n",
        "View: (l)ist agents | (v)isualize\n",
        "Tools: (s)tep (default) | (r)un | (d)ebug\n"
       ]
      },
      {
       "name": "stdout",
       "output_type": "stream",
       "stream": "stdout",
       "text": [
        "Choose one of the above and press Enter: s\n"
       ]
      },
      {
       "output_type": "stream",
       "stream": "stdout",
       "text": [
        "Agent Gozer with a goal of Destroy!\n",
        "Agent agent9 with a goal of acting up!\n",
        "Gozer has destroyed agent9!\n",
        "File: (w)rite properties | e(x)amine log file | (q)uit\n",
        "Edit: (a)dd agent to env | (i)nspect agent | inspect (e)nvironment\n",
        "View: (l)ist agents | (v)isualize\n",
        "Tools: (s)tep (default) | (r)un | (d)ebug\n"
       ]
      },
      {
       "name": "stdout",
       "output_type": "stream",
       "stream": "stdout",
       "text": [
        "Choose one of the above and press Enter: s\n"
       ]
      },
      {
       "output_type": "stream",
       "stream": "stdout",
       "text": [
        "Agent Gozer with a goal of Destroy!\n",
        "Gozer the destructor has destroyed all!!\n",
        "File: (w)rite properties | e(x)amine log file | (q)uit\n",
        "Edit: (a)dd agent to env | (i)nspect agent | inspect (e)nvironment\n",
        "View: (l)ist agents | (v)isualize\n",
        "Tools: (s)tep (default) | (r)un | (d)ebug\n"
       ]
      },
      {
       "name": "stdout",
       "output_type": "stream",
       "stream": "stdout",
       "text": [
        "Choose one of the above and press Enter: q\n"
       ]
      },
      {
       "output_type": "stream",
       "stream": "stdout",
       "text": [
        "Returning to runtime environment.\n"
       ]
      }
     ],
     "prompt_number": 3
    },
    {
     "cell_type": "markdown",
     "metadata": {},
     "source": [
      "Gozer has entered the environment and turn by turn destroyed all of the other agents. Other capabilities already provided in our basic framework are listing all agents, examining log files, write properties (parameter sets) to disk, and launching the Python debugger."
     ]
    },
    {
     "cell_type": "code",
     "collapsed": false,
     "input": [],
     "language": "python",
     "metadata": {},
     "outputs": []
    }
   ],
   "metadata": {}
  }
 ]
}