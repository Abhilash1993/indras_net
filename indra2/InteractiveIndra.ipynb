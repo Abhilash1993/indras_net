{
 "cells": [
  {
   "cell_type": "markdown",
   "metadata": {},
   "source": [
    "## Indra2 basic system\n",
    "\n",
    "`interactive.py` contains some sample code on how to use the new Indra system. This notebook will illustrate its contents.\n",
    "\n",
    "Right now we have three types of entity at play here:\n",
    "\n",
    "* `Entity`: the base \"thingie\" from which all else descends. Operations on entities act like vector operations.\n",
    "* `Composite`: an `Entity` that can hold other entities. Because it is itself an entity, we can nest composites. Operations on composites act like set operations.\n",
    "* `Time`: a `Composite` that loops over its members when acting, giving rise to \"periods\" of action.\n",
    "\n",
    "Let's import `interactive` and see what we can do:"
   ]
  },
  {
   "cell_type": "code",
   "execution_count": 1,
   "metadata": {},
   "outputs": [],
   "source": [
    "from interactive import *"
   ]
  },
  {
   "cell_type": "markdown",
   "metadata": {},
   "source": [
    "Now let's have a look at some of the things we get from that import:"
   ]
  },
  {
   "cell_type": "code",
   "execution_count": 9,
   "metadata": {},
   "outputs": [
    {
     "data": {
      "text/plain": [
       "{\"name\": \"Newton\", \"duration\": 30, \"attrs\": {\"place\": 0.0, \"time\": 1658.0, \"achieve\": 43.9}}"
      ]
     },
     "execution_count": 9,
     "metadata": {},
     "output_type": "execute_result"
    }
   ],
   "source": [
    "newton"
   ]
  },
  {
   "cell_type": "markdown",
   "metadata": {},
   "source": [
    "`newton` is an `Entity`. The base `Entity` has a name, a lifespan (`duration`), and an arbitrary number of attributes.\n",
    "\n",
    "`hardy` is another entity. Here's how easy it is to make a group out of two entities:"
   ]
  },
  {
   "cell_type": "code",
   "execution_count": 5,
   "metadata": {},
   "outputs": [
    {
     "data": {
      "text/plain": [
       "{\n",
       "    \"name\": \"NewtonHardy\",\n",
       "    \"attrs\": {},\n",
       "    \"members\": {\n",
       "        \"Newton\": {\n",
       "            \"name\": \"Newton\",\n",
       "            \"duration\": 30,\n",
       "            \"attrs\": {\n",
       "                \"place\": 0.0,\n",
       "                \"time\": 1658.0,\n",
       "                \"achieve\": 43.9\n",
       "            }\n",
       "        },\n",
       "        \"Hardy\": {\n",
       "            \"name\": \"Hardy\",\n",
       "            \"duration\": 10,\n",
       "            \"attrs\": {\n",
       "                \"age\": 141.0\n",
       "            }\n",
       "        }\n",
       "    }\n",
       "}"
      ]
     },
     "execution_count": 5,
     "metadata": {},
     "output_type": "execute_result"
    }
   ],
   "source": [
    "great_mathematicians = newton + hardy\n",
    "great_mathematicians"
   ]
  },
  {
   "cell_type": "markdown",
   "metadata": {},
   "source": [
    "Oops, we forgot Leibniz and Ramanujan:"
   ]
  },
  {
   "cell_type": "code",
   "execution_count": 7,
   "metadata": {},
   "outputs": [
    {
     "data": {
      "text/plain": [
       "{\n",
       "    \"name\": \"NewtonHardy\",\n",
       "    \"attrs\": {},\n",
       "    \"members\": {\n",
       "        \"Newton\": {\n",
       "            \"name\": \"Newton\",\n",
       "            \"duration\": 30,\n",
       "            \"attrs\": {\n",
       "                \"place\": 0.0,\n",
       "                \"time\": 1658.0,\n",
       "                \"achieve\": 43.9\n",
       "            }\n",
       "        },\n",
       "        \"Hardy\": {\n",
       "            \"name\": \"Hardy\",\n",
       "            \"duration\": 10,\n",
       "            \"attrs\": {\n",
       "                \"age\": 141.0\n",
       "            }\n",
       "        },\n",
       "        \"Leibniz\": {\n",
       "            \"name\": \"Leibniz\",\n",
       "            \"duration\": 20,\n",
       "            \"attrs\": {\n",
       "                \"place\": 0.0,\n",
       "                \"time\": 1646.0\n",
       "            }\n",
       "        },\n",
       "        \"Ramanujan\": {\n",
       "            \"name\": \"Ramanujan\",\n",
       "            \"duration\": 5,\n",
       "            \"attrs\": {}\n",
       "        }\n",
       "    }\n",
       "}"
      ]
     },
     "execution_count": 7,
     "metadata": {},
     "output_type": "execute_result"
    }
   ],
   "source": [
    "forgotten = leibniz + ramanujan\n",
    "forgotten\n",
    "great_mathematicians += forgotten\n",
    "great_mathematicians"
   ]
  },
  {
   "cell_type": "code",
   "execution_count": null,
   "metadata": {},
   "outputs": [],
   "source": [
    "We can also do set intersection:"
   ]
  },
  {
   "cell_type": "code",
   "execution_count": 8,
   "metadata": {},
   "outputs": [
    {
     "data": {
      "text/plain": [
       "{\n",
       "    \"name\": \"NewtonHardy\",\n",
       "    \"attrs\": {},\n",
       "    \"members\": {\n",
       "        \"Leibniz\": {\n",
       "            \"name\": \"Leibniz\",\n",
       "            \"duration\": 20,\n",
       "            \"attrs\": {\n",
       "                \"place\": 0.0,\n",
       "                \"time\": 1646.0\n",
       "            }\n",
       "        },\n",
       "        \"Ramanujan\": {\n",
       "            \"name\": \"Ramanujan\",\n",
       "            \"duration\": 5,\n",
       "            \"attrs\": {}\n",
       "        }\n",
       "    }\n",
       "}"
      ]
     },
     "execution_count": 8,
     "metadata": {},
     "output_type": "execute_result"
    }
   ],
   "source": [
    "great_mathematicians *= forgotten\n",
    "great_mathematicians"
   ]
  },
  {
   "cell_type": "markdown",
   "metadata": {},
   "source": [
    "And take subsets, using a predicate:"
   ]
  },
  {
   "cell_type": "code",
   "execution_count": 5,
   "metadata": {},
   "outputs": [
    {
     "data": {
      "text/plain": [
       "{\n",
       "    \"name\": \"Just Leibniz!\",\n",
       "    \"attrs\": {},\n",
       "    \"members\": {\n",
       "        \"Leibniz\": {\n",
       "            \"name\": \"Leibniz\",\n",
       "            \"duration\": 20,\n",
       "            \"attrs\": {\n",
       "                \"place\": 0.0,\n",
       "                \"time\": 1646.0\n",
       "            }\n",
       "        }\n",
       "    }\n",
       "}"
      ]
     },
     "execution_count": 5,
     "metadata": {},
     "output_type": "execute_result"
    }
   ],
   "source": [
    "calc_founders = newton + leibniz\n",
    "just_l = calc.subset(max_duration, 25, name=\"Just Leibniz!\")\n",
    "just_l"
   ]
  },
  {
   "cell_type": "markdown",
   "metadata": {},
   "source": [
    "In that particular case, our predicate selected just the set members with a duration of less than 25, and so we got only Leibniz. The function signature for subset is:\n",
    "`def subset(self, predicate, *args, name=None):`\n",
    "`*args` is a list of arguments to pass to the predicate function, so it can take an arbitrary number. The optional `name` parameter will name the new subset."
   ]
  },
  {
   "cell_type": "code",
   "execution_count": null,
   "metadata": {},
   "outputs": [],
   "source": []
  }
 ],
 "metadata": {
  "kernelspec": {
   "display_name": "Python 3",
   "language": "python",
   "name": "python3"
  },
  "language_info": {
   "codemirror_mode": {
    "name": "ipython",
    "version": 3
   },
   "file_extension": ".py",
   "mimetype": "text/x-python",
   "name": "python",
   "nbconvert_exporter": "python",
   "pygments_lexer": "ipython3",
   "version": "3.6.2"
  }
 },
 "nbformat": 4,
 "nbformat_minor": 2
}
