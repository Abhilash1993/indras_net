{
 "cells": [
  {
   "cell_type": "markdown",
   "metadata": {},
   "source": [
    "## Indra2 basic system\n",
    "\n",
    "`interactive.py` contains some sample code on how to use the new Indra system. This notebook will illustrate its contents."
   ]
  },
  {
   "cell_type": "code",
   "execution_count": 1,
   "metadata": {},
   "outputs": [],
   "source": [
    "from interactive import *"
   ]
  },
  {
   "cell_type": "code",
   "execution_count": 3,
   "metadata": {},
   "outputs": [
    {
     "data": {
      "text/plain": [
       "{\n",
       "    \"name\": \"Math guys\",\n",
       "    \"attrs\": {},\n",
       "    \"members\": {\n",
       "        \"Calculus guys\": {\n",
       "            \"name\": \"Calculus guys\",\n",
       "            \"attrs\": {},\n",
       "            \"members\": {\n",
       "                \"Newton\": {\n",
       "                    \"name\": \"Newton\",\n",
       "                    \"duration\": 30,\n",
       "                    \"attrs\": {\n",
       "                        \"place\": 0.0,\n",
       "                        \"time\": 1658.0,\n",
       "                        \"achieve\": 43.9\n",
       "                    }\n",
       "                },\n",
       "                \"Leibniz\": {\n",
       "                    \"name\": \"Leibniz\",\n",
       "                    \"duration\": 20,\n",
       "                    \"attrs\": {\n",
       "                        \"place\": 0.0,\n",
       "                        \"time\": 1646.0\n",
       "                    }\n",
       "                }\n",
       "            }\n",
       "        },\n",
       "        \"Cambridge guys\": {\n",
       "            \"name\": \"Cambridge guys\",\n",
       "            \"attrs\": {},\n",
       "            \"members\": {\n",
       "                \"Hardy\": {\n",
       "                    \"name\": \"Hardy\",\n",
       "                    \"duration\": 10,\n",
       "                    \"attrs\": {\n",
       "                        \"age\": 141.0\n",
       "                    }\n",
       "                },\n",
       "                \"Ramanujan\": {\n",
       "                    \"name\": \"Ramanujan\",\n",
       "                    \"duration\": 5,\n",
       "                    \"attrs\": {}\n",
       "                }\n",
       "            }\n",
       "        },\n",
       "        \"Gauss\": {\n",
       "            \"name\": \"Gauss\",\n",
       "            \"duration\": 9223372036854775807,\n",
       "            \"attrs\": {}\n",
       "        },\n",
       "        \"Euler\": {\n",
       "            \"name\": \"Euler\",\n",
       "            \"duration\": 9223372036854775807,\n",
       "            \"attrs\": {}\n",
       "        }\n",
       "    }\n",
       "}"
      ]
     },
     "execution_count": 3,
     "metadata": {},
     "output_type": "execute_result"
    }
   ],
   "source": [
    "maths"
   ]
  },
  {
   "cell_type": "code",
   "execution_count": null,
   "metadata": {},
   "outputs": [],
   "source": []
  }
 ],
 "metadata": {
  "kernelspec": {
   "display_name": "Python 3",
   "language": "python",
   "name": "python3"
  },
  "language_info": {
   "codemirror_mode": {
    "name": "ipython",
    "version": 3
   },
   "file_extension": ".py",
   "mimetype": "text/x-python",
   "name": "python",
   "nbconvert_exporter": "python",
   "pygments_lexer": "ipython3",
   "version": "3.6.2"
  }
 },
 "nbformat": 4,
 "nbformat_minor": 2
}
