{
 "cells": [
  {
   "cell_type": "markdown",
   "metadata": {},
   "source": [
    "## Indra Agent Class"
   ]
  },
  {
   "cell_type": "markdown",
   "metadata": {},
   "source": [
    "`agent.py` is the base class of all agents, environments, and objects contained in an environment.\n",
    "Its basic character is that it is a vector, and supports basic\n",
    "vector and matrix operations."
   ]
  },
  {
   "cell_type": "code",
   "execution_count": 1,
   "metadata": {},
   "outputs": [],
   "source": [
    "cd .."
   ]
  },
  {
   "cell_type": "code",
   "execution_count": 2,
   "metadata": {},
   "outputs": [],
   "source": [
    "from indra2.agent import Agent"
   ]
  },
  {
   "cell_type": "markdown",
   "metadata": {},
   "source": [
    "Agent class constructor accepts 5 parameters:\n",
    "\n",
    "1. name \n",
    "2. attrs \n",
    "3. action \n",
    "4. duration\n",
    "5. groups "
   ]
  },
  {
   "cell_type": "markdown",
   "metadata": {},
   "source": [
    "Lets create an agent called newton."
   ]
  },
  {
   "cell_type": "code",
   "execution_count": 3,
   "metadata": {},
   "outputs": [],
   "source": [
    "def newt_action(agent):\n",
    "    print(\"I'm \" + agent.name + \" and I'm inventing modern mechanics!\")\n",
    "    \n",
    "newton =  Agent(\"Newton\",\n",
    "                  attrs={\"place\": 0.0, \"time\": 1658.0, \"achieve\": 43.9},\n",
    "                  action=newt_action,\n",
    "                  duration=30)\n"
   ]
  },
  {
   "cell_type": "markdown",
   "metadata": {},
   "source": [
    "Now we will explore all the magic methods of agent class."
   ]
  },
  {
   "cell_type": "markdown",
   "metadata": {},
   "source": [
    "* __len__ returns number of attributes of an agent"
   ]
  },
  {
   "cell_type": "code",
   "execution_count": 4,
   "metadata": {},
   "outputs": [
    {
     "data": {
      "text/plain": [
       "3"
      ]
     },
     "execution_count": 4,
     "metadata": {},
     "output_type": "execute_result"
    }
   ],
   "source": [
    "len(newton)"
   ]
  },
  {
   "cell_type": "markdown",
   "metadata": {},
   "source": [
    "* __str__ returns name of the agent"
   ]
  },
  {
   "cell_type": "code",
   "execution_count": 5,
   "metadata": {},
   "outputs": [
    {
     "data": {
      "text/plain": [
       "'Newton'"
      ]
     },
     "execution_count": 5,
     "metadata": {},
     "output_type": "execute_result"
    }
   ],
   "source": [
    "str(newton)"
   ]
  },
  {
   "cell_type": "markdown",
   "metadata": {},
   "source": [
    "* __getitem__ returns value of an attribute"
   ]
  },
  {
   "cell_type": "code",
   "execution_count": 6,
   "metadata": {},
   "outputs": [
    {
     "data": {
      "text/plain": [
       "1658.0"
      ]
     },
     "execution_count": 6,
     "metadata": {},
     "output_type": "execute_result"
    }
   ],
   "source": [
    "newton['time']"
   ]
  },
  {
   "cell_type": "markdown",
   "metadata": {},
   "source": [
    "*  __setitem__ sets/changes value of an attribute. Returns keyerror if agent doesn't have the attribute."
   ]
  },
  {
   "cell_type": "code",
   "execution_count": 7,
   "metadata": {},
   "outputs": [
    {
     "data": {
      "text/plain": [
       "2.5"
      ]
     },
     "execution_count": 7,
     "metadata": {},
     "output_type": "execute_result"
    }
   ],
   "source": [
    "newton['place'] = 2.5\n",
    "newton['place']"
   ]
  },
  {
   "cell_type": "markdown",
   "metadata": {},
   "source": [
    "* **contains** returns true if agent contains the attribute"
   ]
  },
  {
   "cell_type": "code",
   "execution_count": 8,
   "metadata": {},
   "outputs": [
    {
     "data": {
      "text/plain": [
       "True"
      ]
     },
     "execution_count": 8,
     "metadata": {},
     "output_type": "execute_result"
    }
   ],
   "source": [
    "\"time\" in newton"
   ]
  },
  {
   "cell_type": "markdown",
   "metadata": {},
   "source": [
    "* **iter** loops over attributes of an agent"
   ]
  },
  {
   "cell_type": "code",
   "execution_count": 9,
   "metadata": {},
   "outputs": [
    {
     "name": "stdout",
     "output_type": "stream",
     "text": [
      "place\n",
      "time\n",
      "achieve\n"
     ]
    }
   ],
   "source": [
    "for attr in newton:\n",
    "    print(attr)"
   ]
  },
  {
   "cell_type": "markdown",
   "metadata": {},
   "source": [
    "* **reversed** loops over attributes in reverse order"
   ]
  },
  {
   "cell_type": "code",
   "execution_count": 10,
   "metadata": {},
   "outputs": [
    {
     "name": "stdout",
     "output_type": "stream",
     "text": [
      "achieve\n",
      "time\n",
      "place\n"
     ]
    }
   ],
   "source": [
    "for attr in reversed(newton):\n",
    "    print(attr)"
   ]
  },
  {
   "cell_type": "markdown",
   "metadata": {},
   "source": [
    "* **eq** checks if two agents are equivalent"
   ]
  },
  {
   "cell_type": "code",
   "execution_count": 11,
   "metadata": {},
   "outputs": [
    {
     "name": "stdout",
     "output_type": "stream",
     "text": [
      "Leibniz & othere_Leibniz: False\n",
      "Leibniz & Leibniz: True\n",
      "Leibniz & Newton: False\n"
     ]
    }
   ],
   "source": [
    "LEIBBYEAR = 1646\n",
    "LEIBDYEAR = 1716\n",
    "def leib_action(agent):\n",
    "    print(\"I'm \" + agent.name + \" and I'm inventing calculus!\")\n",
    "\n",
    "leibniz = Agent(\"Leibniz\",\n",
    "                  attrs={\"place\": 0.0, \"time\": LEIBBYEAR},\n",
    "                  action=leib_action,\n",
    "                  duration=20)\n",
    "\n",
    "other_Leibniz = Agent(\"Leibniz\",\n",
    "                  attrs={\"place\": 1.0, \"time\": LEIBBYEAR},\n",
    "                  action=leib_action,\n",
    "                  duration=20)\n",
    "\n",
    "print(\"Leibniz & othere_Leibniz:\", leibniz == other_Leibniz)\n",
    "print(\"Leibniz & Leibniz:\", leibniz == leibniz)\n",
    "print(\"Leibniz & Newton:\", leibniz == newton)"
   ]
  },
  {
   "cell_type": "markdown",
   "metadata": {},
   "source": [
    "* **repr** **[[[[INCOMPLETE TEST]]]]**"
   ]
  },
  {
   "cell_type": "code",
   "execution_count": 12,
   "metadata": {},
   "outputs": [
    {
     "data": {
      "text/plain": [
       "'{\\n    \"name\": \"Leibniz\",\\n    \"duration\": 20,\\n    \"pos\": null,\\n    \"attrs\": {\\n        \"place\": 0.0,\\n        \"time\": 1646.0\\n    },\\n    \"groups\": \"\"\\n}'"
      ]
     },
     "execution_count": 12,
     "metadata": {},
     "output_type": "execute_result"
    }
   ],
   "source": [
    "repr(leibniz)"
   ]
  },
  {
   "cell_type": "markdown",
   "metadata": {},
   "source": [
    "* **call**:  Agents will 'act' by being called as a function. If the agent has no `act()` function, do nothing. Agents should return True if they did, in fact,'do something,' or False if they did not."
   ]
  },
  {
   "cell_type": "code",
   "execution_count": 13,
   "metadata": {},
   "outputs": [
    {
     "name": "stdout",
     "output_type": "stream",
     "text": [
      "I'm Newton and I'm inventing modern mechanics!\n",
      "I'm Leibniz and I'm inventing calculus!\n"
     ]
    },
    {
     "data": {
      "text/plain": [
       "True"
      ]
     },
     "execution_count": 13,
     "metadata": {},
     "output_type": "execute_result"
    }
   ],
   "source": [
    "newton()\n",
    "leibniz()"
   ]
  },
  {
   "cell_type": "markdown",
   "metadata": {},
   "source": [
    "* **iadd** increases value of each attributes"
   ]
  },
  {
   "cell_type": "code",
   "execution_count": 14,
   "metadata": {},
   "outputs": [
    {
     "data": {
      "text/plain": [
       "{\n",
       "    \"name\": \"Newton\",\n",
       "    \"duration\": 29,\n",
       "    \"pos\": null,\n",
       "    \"attrs\": {\n",
       "        \"place\": 2.5,\n",
       "        \"time\": 1658.0,\n",
       "        \"achieve\": 43.9\n",
       "    },\n",
       "    \"groups\": \"\"\n",
       "}"
      ]
     },
     "execution_count": 14,
     "metadata": {},
     "output_type": "execute_result"
    }
   ],
   "source": [
    "newton"
   ]
  },
  {
   "cell_type": "code",
   "execution_count": 15,
   "metadata": {},
   "outputs": [],
   "source": [
    "newton += 2"
   ]
  },
  {
   "cell_type": "code",
   "execution_count": 16,
   "metadata": {},
   "outputs": [
    {
     "data": {
      "text/plain": [
       "{\n",
       "    \"name\": \"Newton\",\n",
       "    \"duration\": 29,\n",
       "    \"pos\": null,\n",
       "    \"attrs\": {\n",
       "        \"place\": 4.5,\n",
       "        \"time\": 1660.0,\n",
       "        \"achieve\": 45.9\n",
       "    },\n",
       "    \"groups\": \"\"\n",
       "}"
      ]
     },
     "execution_count": 16,
     "metadata": {},
     "output_type": "execute_result"
    }
   ],
   "source": [
    "newton"
   ]
  },
  {
   "cell_type": "code",
   "execution_count": 17,
   "metadata": {},
   "outputs": [
    {
     "data": {
      "text/plain": [
       "{\n",
       "    \"name\": \"Newton\",\n",
       "    \"duration\": 29,\n",
       "    \"pos\": null,\n",
       "    \"attrs\": {\n",
       "        \"place\": 6.5,\n",
       "        \"time\": 1662.0,\n",
       "        \"achieve\": 47.9\n",
       "    },\n",
       "    \"groups\": \"\"\n",
       "}"
      ]
     },
     "execution_count": 17,
     "metadata": {},
     "output_type": "execute_result"
    }
   ],
   "source": [
    "newton += 2 \n",
    "newton"
   ]
  },
  {
   "cell_type": "markdown",
   "metadata": {},
   "source": [
    "* **isub** this is opposite of iadd - substracts values of attributes."
   ]
  },
  {
   "cell_type": "code",
   "execution_count": 18,
   "metadata": {},
   "outputs": [
    {
     "data": {
      "text/plain": [
       "{\n",
       "    \"name\": \"Newton\",\n",
       "    \"duration\": 29,\n",
       "    \"pos\": null,\n",
       "    \"attrs\": {\n",
       "        \"place\": 4.5,\n",
       "        \"time\": 1660.0,\n",
       "        \"achieve\": 45.9\n",
       "    },\n",
       "    \"groups\": \"\"\n",
       "}"
      ]
     },
     "execution_count": 18,
     "metadata": {},
     "output_type": "execute_result"
    }
   ],
   "source": [
    "newton -= 2\n",
    "newton"
   ]
  },
  {
   "cell_type": "markdown",
   "metadata": {},
   "source": [
    "* **imul** multiplies each attributes"
   ]
  },
  {
   "cell_type": "code",
   "execution_count": 20,
   "metadata": {},
   "outputs": [
    {
     "data": {
      "text/plain": [
       "{\n",
       "    \"name\": \"Newton\",\n",
       "    \"duration\": 28,\n",
       "    \"pos\": null,\n",
       "    \"attrs\": {\n",
       "        \"place\": 18.0,\n",
       "        \"time\": 6640.0,\n",
       "        \"achieve\": 183.6\n",
       "    },\n",
       "    \"groups\": \"\"\n",
       "}"
      ]
     },
     "execution_count": 20,
     "metadata": {},
     "output_type": "execute_result"
    }
   ],
   "source": [
    "newton *= 2\n",
    "newton"
   ]
  },
  {
   "cell_type": "code",
   "execution_count": null,
   "metadata": {},
   "outputs": [],
   "source": [
    "* **add** "
   ]
  },
  {
   "cell_type": "code",
   "execution_count": 21,
   "metadata": {},
   "outputs": [],
   "source": [
    "import composite"
   ]
  },
  {
   "cell_type": "code",
   "execution_count": 22,
   "metadata": {},
   "outputs": [
    {
     "ename": "AttributeError",
     "evalue": "'str' object has no attribute 'join_group'",
     "output_type": "error",
     "traceback": [
      "\u001b[0;31m---------------------------------------------------------------------------\u001b[0m",
      "\u001b[0;31mAttributeError\u001b[0m                            Traceback (most recent call last)",
      "\u001b[0;32m<ipython-input-22-a1af7ef0de54>\u001b[0m in \u001b[0;36m<module>\u001b[0;34m()\u001b[0m\n\u001b[0;32m----> 1\u001b[0;31m \u001b[0mnewton\u001b[0m \u001b[0;34m+\u001b[0m \u001b[0mleibniz\u001b[0m\u001b[0;34m\u001b[0m\u001b[0m\n\u001b[0m",
      "\u001b[0;32m~/Desktop/DesktopFiles/CS/indras_net/indra2/agent.py\u001b[0m in \u001b[0;36m__add__\u001b[0;34m(self, other)\u001b[0m\n\u001b[1;32m    165\u001b[0m             return composite.Composite(\n\u001b[1;32m    166\u001b[0m                 \u001b[0mself\u001b[0m\u001b[0;34m.\u001b[0m\u001b[0mname\u001b[0m \u001b[0;34m+\u001b[0m \u001b[0mother\u001b[0m\u001b[0;34m.\u001b[0m\u001b[0mname\u001b[0m\u001b[0;34m,\u001b[0m\u001b[0;34m\u001b[0m\u001b[0m\n\u001b[0;32m--> 167\u001b[0;31m                 members={self.name: self, other.name: other})\n\u001b[0m\u001b[1;32m    168\u001b[0m         \u001b[0;32melse\u001b[0m\u001b[0;34m:\u001b[0m\u001b[0;34m\u001b[0m\u001b[0m\n\u001b[1;32m    169\u001b[0m             \u001b[0;32mreturn\u001b[0m \u001b[0;32mNone\u001b[0m\u001b[0;34m\u001b[0m\u001b[0m\n",
      "\u001b[0;32m~/Desktop/DesktopFiles/CS/indras_net/indra2/composite.py\u001b[0m in \u001b[0;36m__init__\u001b[0;34m(self, name, attrs, members, duration)\u001b[0m\n\u001b[1;32m     42\u001b[0m         \u001b[0;32mif\u001b[0m \u001b[0mmembers\u001b[0m \u001b[0;32mis\u001b[0m \u001b[0;32mnot\u001b[0m \u001b[0;32mNone\u001b[0m\u001b[0;34m:\u001b[0m\u001b[0;34m\u001b[0m\u001b[0m\n\u001b[1;32m     43\u001b[0m             \u001b[0;32mfor\u001b[0m \u001b[0mmember\u001b[0m \u001b[0;32min\u001b[0m \u001b[0mmembers\u001b[0m\u001b[0;34m:\u001b[0m\u001b[0;34m\u001b[0m\u001b[0m\n\u001b[0;32m---> 44\u001b[0;31m                 \u001b[0mmember\u001b[0m\u001b[0;34m.\u001b[0m\u001b[0mjoin_group\u001b[0m\u001b[0;34m(\u001b[0m\u001b[0mself\u001b[0m\u001b[0;34m)\u001b[0m\u001b[0;34m\u001b[0m\u001b[0m\n\u001b[0m\u001b[1;32m     45\u001b[0m                 \u001b[0;31m# use member's str() val (usually name)\u001b[0m\u001b[0;34m\u001b[0m\u001b[0;34m\u001b[0m\u001b[0m\n\u001b[1;32m     46\u001b[0m                 \u001b[0;31m# as the key to place it in our dict:\u001b[0m\u001b[0;34m\u001b[0m\u001b[0;34m\u001b[0m\u001b[0m\n",
      "\u001b[0;31mAttributeError\u001b[0m: 'str' object has no attribute 'join_group'"
     ]
    }
   ],
   "source": [
    "newton + leibniz"
   ]
  },
  {
   "cell_type": "code",
   "execution_count": null,
   "metadata": {},
   "outputs": [],
   "source": []
  }
 ],
 "metadata": {
  "kernelspec": {
   "display_name": "Python 3",
   "language": "python",
   "name": "python3"
  },
  "language_info": {
   "codemirror_mode": {
    "name": "ipython",
    "version": 3
   },
   "file_extension": ".py",
   "mimetype": "text/x-python",
   "name": "python",
   "nbconvert_exporter": "python",
   "pygments_lexer": "ipython3",
   "version": "3.7.0"
  }
 },
 "nbformat": 4,
 "nbformat_minor": 2
}
