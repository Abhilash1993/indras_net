{
 "cells": [
  {
   "cell_type": "markdown",
   "metadata": {},
   "source": [
    "## Indra Agent Class"
   ]
  },
  {
   "cell_type": "markdown",
   "metadata": {},
   "source": [
    "`agent.py` is the base class of all agents, environments, and objects contained in an environment.\n",
    "Its basic character is that it is a vector, and supports basic\n",
    "vector and matrix operations."
   ]
  },
  {
   "cell_type": "code",
   "execution_count": 16,
   "metadata": {},
   "outputs": [],
   "source": [
    "from indra2.agent import Agent"
   ]
  },
  {
   "cell_type": "markdown",
   "metadata": {},
   "source": [
    "Agent class constructor accepts 5 parameters:\n",
    "\n",
    "1. name \n",
    "2. attrs \n",
    "3. action \n",
    "4. duration\n",
    "5. groups "
   ]
  },
  {
   "cell_type": "markdown",
   "metadata": {},
   "source": [
    "Lets create an agent called newton."
   ]
  },
  {
   "cell_type": "code",
   "execution_count": 19,
   "metadata": {},
   "outputs": [],
   "source": [
    "newton =  Agent(\"Newton\",\n",
    "                  attrs={\"place\": 0.0, \"time\": 1658.0, \"achieve\": 43.9},\n",
    "                  action=newt_action,\n",
    "                  duration=30)\n",
    "\n",
    "def newt_action(agent):\n",
    "    print(\"I'm \" + agent.name + \" and I'm inventing modern mechanics!\")"
   ]
  },
  {
   "cell_type": "markdown",
   "metadata": {},
   "source": [
    "Now we will explore all the magic methods of agent class."
   ]
  },
  {
   "cell_type": "raw",
   "metadata": {},
   "source": [
    "1. __len__ returns number of attributes of an agent"
   ]
  },
  {
   "cell_type": "code",
   "execution_count": 36,
   "metadata": {},
   "outputs": [
    {
     "data": {
      "text/plain": [
       "3"
      ]
     },
     "execution_count": 36,
     "metadata": {},
     "output_type": "execute_result"
    }
   ],
   "source": [
    "len(newton)"
   ]
  },
  {
   "cell_type": "raw",
   "metadata": {},
   "source": [
    "2. __str__ returns name of the agent"
   ]
  },
  {
   "cell_type": "code",
   "execution_count": 34,
   "metadata": {},
   "outputs": [
    {
     "data": {
      "text/plain": [
       "'Newton'"
      ]
     },
     "execution_count": 34,
     "metadata": {},
     "output_type": "execute_result"
    }
   ],
   "source": [
    "str(newton)"
   ]
  },
  {
   "cell_type": "raw",
   "metadata": {},
   "source": [
    "3. __getitem__ returns value of an attribute"
   ]
  },
  {
   "cell_type": "code",
   "execution_count": 40,
   "metadata": {},
   "outputs": [
    {
     "data": {
      "text/plain": [
       "1658.0"
      ]
     },
     "execution_count": 40,
     "metadata": {},
     "output_type": "execute_result"
    }
   ],
   "source": [
    "newton['time']"
   ]
  },
  {
   "cell_type": "raw",
   "metadata": {},
   "source": [
    "4.  __setitem__ sets/changes value of an attribute. Returns keyerror if agent doesn't have the attribute."
   ]
  },
  {
   "cell_type": "code",
   "execution_count": 41,
   "metadata": {},
   "outputs": [
    {
     "data": {
      "text/plain": [
       "2.5"
      ]
     },
     "execution_count": 41,
     "metadata": {},
     "output_type": "execute_result"
    }
   ],
   "source": [
    "newton['place'] = 2.5\n",
    "newton['place']"
   ]
  },
  {
   "cell_type": "code",
   "execution_count": null,
   "metadata": {},
   "outputs": [],
   "source": []
  }
 ],
 "metadata": {
  "kernelspec": {
   "display_name": "Python 3",
   "language": "python",
   "name": "python3"
  },
  "language_info": {
   "codemirror_mode": {
    "name": "ipython",
    "version": 3
   },
   "file_extension": ".py",
   "mimetype": "text/x-python",
   "name": "python",
   "nbconvert_exporter": "python",
   "pygments_lexer": "ipython3",
   "version": "3.7.0"
  }
 },
 "nbformat": 4,
 "nbformat_minor": 2
}
