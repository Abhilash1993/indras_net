{
 "cells": [
  {
   "cell_type": "code",
   "execution_count": 1,
   "metadata": {},
   "outputs": [
    {
     "data": {
      "text/plain": [
       "7"
      ]
     },
     "execution_count": 1,
     "metadata": {},
     "output_type": "execute_result"
    }
   ],
   "source": [
    "x = 3 + 4\n",
    "x"
   ]
  },
  {
   "cell_type": "markdown",
   "metadata": {},
   "source": [
    "# How to run the basic model."
   ]
  },
  {
   "cell_type": "markdown",
   "metadata": {},
   "source": [
    "First we import all necessary files."
   ]
  },
  {
   "cell_type": "code",
   "execution_count": 1,
   "metadata": {},
   "outputs": [
    {
     "name": "stderr",
     "output_type": "stream",
     "text": [
      "/Library/Frameworks/Python.framework/Versions/3.6/lib/python3.6/site-packages/scipy/__init__.py:115: UserWarning: Numpy 1.13.3 or above is required for this version of scipy (detected version 1.13.1)\n",
      "  UserWarning)\n"
     ]
    }
   ],
   "source": [
    "from indra.utils import get_props\n",
    "from indra.agent import Agent\n",
    "from indra.composite import Composite\n",
    "from indra.space import DEF_HEIGHT, DEF_WIDTH\n",
    "from indra.env import Env\n",
    "from indra.display_methods import RED, BLUE\n",
    "from models.basic import set_up"
   ]
  },
  {
   "cell_type": "markdown",
   "metadata": {},
   "source": [
    "We then initialize global variables."
   ]
  },
  {
   "cell_type": "code",
   "execution_count": 2,
   "metadata": {},
   "outputs": [],
   "source": [
    "MODEL_NAME = \"basic\"\n",
    "DEBUG = True  # turns debugging code on or off\n",
    "DEBUG2 = False  # turns deeper debugging code on or off\n",
    "\n",
    "DEF_NUM_BLUE = 10\n",
    "DEF_NUM_RED = 10\n",
    "\n",
    "red_group = None\n",
    "blue_group = None\n",
    "env = None\n",
    "\n"
   ]
  },
  {
   "cell_type": "markdown",
   "metadata": {},
   "source": [
    "Next we call the `set_up` function to set up the environment, groups, and agents of the model."
   ]
  },
  {
   "cell_type": "code",
   "execution_count": 3,
   "metadata": {},
   "outputs": [
    {
     "name": "stdout",
     "output_type": "stream",
     "text": [
      "What is the grid height? [2-100] (20) \n",
      "What is the grid width? [2-100] (20) \n",
      "How many blue agents do you want? [1-100] (2) \n",
      "How many red agents do you want? [1-100] (2) \n",
      "Welcome to Indra, gcallah!\n"
     ]
    }
   ],
   "source": [
    "(env, blue_group, red_group) = set_up()\n"
   ]
  },
  {
   "cell_type": "markdown",
   "metadata": {},
   "source": [
    "You can run the model N periods by typing the number you want in the following function and then running it."
   ]
  },
  {
   "cell_type": "code",
   "execution_count": 4,
   "metadata": {},
   "outputs": [
    {
     "name": "stdout",
     "output_type": "stream",
     "text": [
      "I'm Blues0 and I'm acting.\n",
      "I'm Blues1 and I'm acting.\n",
      "I'm Reds0 and I'm acting.\n",
      "I'm Reds1 and I'm acting.\n",
      "\n",
      "Total census for period 1:\n",
      "==================\n",
      "Group census:\n",
      "==================\n",
      "  Blues: 2\n",
      "  Reds: 2\n",
      "==================\n",
      "Agent census:\n",
      "==================\n",
      "  Total agents moved: 4\n",
      "  Total agents who switched groups: 0\n",
      "I'm Blues0 and I'm acting.\n",
      "I'm Blues1 and I'm acting.\n",
      "I'm Reds0 and I'm acting.\n",
      "I'm Reds1 and I'm acting.\n",
      "\n",
      "Total census for period 2:\n",
      "==================\n",
      "Group census:\n",
      "==================\n",
      "  Blues: 2\n",
      "  Reds: 2\n",
      "==================\n",
      "Agent census:\n",
      "==================\n",
      "  Total agents moved: 4\n",
      "  Total agents who switched groups: 0\n",
      "I'm Blues0 and I'm acting.\n",
      "I'm Blues1 and I'm acting.\n",
      "I'm Reds0 and I'm acting.\n",
      "I'm Reds1 and I'm acting.\n",
      "\n",
      "Total census for period 3:\n",
      "==================\n",
      "Group census:\n",
      "==================\n",
      "  Blues: 2\n",
      "  Reds: 2\n",
      "==================\n",
      "Agent census:\n",
      "==================\n",
      "  Total agents moved: 4\n",
      "  Total agents who switched groups: 0\n",
      "I'm Blues0 and I'm acting.\n",
      "I'm Blues1 and I'm acting.\n",
      "I'm Reds0 and I'm acting.\n",
      "I'm Reds1 and I'm acting.\n",
      "\n",
      "Total census for period 4:\n",
      "==================\n",
      "Group census:\n",
      "==================\n",
      "  Blues: 2\n",
      "  Reds: 2\n",
      "==================\n",
      "Agent census:\n",
      "==================\n",
      "  Total agents moved: 4\n",
      "  Total agents who switched groups: 0\n",
      "I'm Blues0 and I'm acting.\n",
      "I'm Blues1 and I'm acting.\n",
      "I'm Reds0 and I'm acting.\n",
      "I'm Reds1 and I'm acting.\n",
      "\n",
      "Total census for period 5:\n",
      "==================\n",
      "Group census:\n",
      "==================\n",
      "  Blues: 2\n",
      "  Reds: 2\n",
      "==================\n",
      "Agent census:\n",
      "==================\n",
      "  Total agents moved: 4\n",
      "  Total agents who switched groups: 0\n",
      "I'm Blues0 and I'm acting.\n",
      "I'm Blues1 and I'm acting.\n",
      "I'm Reds0 and I'm acting.\n",
      "I'm Reds1 and I'm acting.\n",
      "\n",
      "Total census for period 6:\n",
      "==================\n",
      "Group census:\n",
      "==================\n",
      "  Blues: 2\n",
      "  Reds: 2\n",
      "==================\n",
      "Agent census:\n",
      "==================\n",
      "  Total agents moved: 4\n",
      "  Total agents who switched groups: 0\n",
      "I'm Blues0 and I'm acting.\n",
      "I'm Blues1 and I'm acting.\n",
      "I'm Reds0 and I'm acting.\n",
      "I'm Reds1 and I'm acting.\n",
      "\n",
      "Total census for period 7:\n",
      "==================\n",
      "Group census:\n",
      "==================\n",
      "  Blues: 2\n",
      "  Reds: 2\n",
      "==================\n",
      "Agent census:\n",
      "==================\n",
      "  Total agents moved: 4\n",
      "  Total agents who switched groups: 0\n",
      "I'm Blues0 and I'm acting.\n",
      "I'm Blues1 and I'm acting.\n",
      "I'm Reds0 and I'm acting.\n",
      "I'm Reds1 and I'm acting.\n",
      "\n",
      "Total census for period 8:\n",
      "==================\n",
      "Group census:\n",
      "==================\n",
      "  Blues: 2\n",
      "  Reds: 2\n",
      "==================\n",
      "Agent census:\n",
      "==================\n",
      "  Total agents moved: 4\n",
      "  Total agents who switched groups: 0\n",
      "I'm Blues0 and I'm acting.\n",
      "I'm Blues1 and I'm acting.\n",
      "I'm Reds0 and I'm acting.\n",
      "I'm Reds1 and I'm acting.\n",
      "\n",
      "Total census for period 9:\n",
      "==================\n",
      "Group census:\n",
      "==================\n",
      "  Blues: 2\n",
      "  Reds: 2\n",
      "==================\n",
      "Agent census:\n",
      "==================\n",
      "  Total agents moved: 4\n",
      "  Total agents who switched groups: 0\n",
      "I'm Blues0 and I'm acting.\n",
      "I'm Blues1 and I'm acting.\n",
      "I'm Reds0 and I'm acting.\n",
      "I'm Reds1 and I'm acting.\n",
      "\n",
      "Total census for period 10:\n",
      "==================\n",
      "Group census:\n",
      "==================\n",
      "  Blues: 2\n",
      "  Reds: 2\n",
      "==================\n",
      "Agent census:\n",
      "==================\n",
      "  Total agents moved: 4\n",
      "  Total agents who switched groups: 0\n"
     ]
    },
    {
     "data": {
      "text/plain": [
       "40"
      ]
     },
     "execution_count": 4,
     "metadata": {},
     "output_type": "execute_result"
    }
   ],
   "source": [
    "env.runN(10)"
   ]
  },
  {
   "cell_type": "markdown",
   "metadata": {},
   "source": [
    "You can view the position of all of the agents in space with the following command:"
   ]
  },
  {
   "cell_type": "code",
   "execution_count": 5,
   "metadata": {},
   "outputs": [
    {
     "data": {
      "image/png": "[encoded data removed]",
      "text/plain": [
       "<Figure size 432x288 with 1 Axes>"
      ]
     },
     "metadata": {},
     "output_type": "display_data"
    },
    {
     "data": {
      "text/plain": [
       "<indra.display_methods.ScatterPlot at 0x106446048>"
      ]
     },
     "execution_count": 5,
     "metadata": {},
     "output_type": "execute_result"
    }
   ],
   "source": [
    "env.scatter_graph()"
   ]
  },
  {
   "cell_type": "markdown",
   "metadata": {},
   "source": [
    "You can view the line graph through the following command:"
   ]
  },
  {
   "cell_type": "code",
   "execution_count": null,
   "metadata": {},
   "outputs": [],
   "source": [
    "env.line_graph()"
   ]
  }
 ],
 "metadata": {
  "kernelspec": {
   "display_name": "Python 3",
   "language": "python",
   "name": "python3"
  },
  "language_info": {
   "codemirror_mode": {
    "name": "ipython",
    "version": 3
   },
   "file_extension": ".py",
   "mimetype": "text/x-python",
   "name": "python",
   "nbconvert_exporter": "python",
   "pygments_lexer": "ipython3",
   "version": "3.6.2"
  }
 },
 "nbformat": 4,
 "nbformat_minor": 2
}
