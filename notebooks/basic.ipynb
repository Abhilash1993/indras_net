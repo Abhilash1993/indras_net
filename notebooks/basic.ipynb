{
 "cells": [
  {
   "cell_type": "markdown",
   "metadata": {},
   "source": [
    "# How to run the ../models/basic model."
   ]
  },
  {
   "cell_type": "markdown",
   "metadata": {},
   "source": [
    "First we import all necessary files."
   ]
  },
  {
   "cell_type": "code",
   "execution_count": null,
   "metadata": {},
   "outputs": [],
   "source": [
    "from indra.agent import Agent\n",
    "from indra.composite import Composite\n",
    "from indra.display_methods import RED, BLUE\n",
    "from indra.env import Env\n",
    "from indra.registry import get_env, get_prop\n",
    "from indra.space import DEF_HEIGHT, DEF_WIDTH\n",
    "from indra.user import user_tell\n",
    "from indra.utils import init_props\n",
    "from models.basic import set_up"
   ]
  },
  {
   "cell_type": "markdown",
   "metadata": {},
   "source": [
    "We then initialize global variables."
   ]
  },
  {
   "cell_type": "code",
   "execution_count": null,
   "metadata": {},
   "outputs": [],
   "source": [
    "MODEL_NAME = \"basic\"\n",
    "DEBUG = True  # turns debugging code on or off\n",
    "DEBUG2 = False  # turns deeper debugging code on or off\n",
    "\n",
    "DEF_NUM_BLUE = 10\n",
    "\n",
    "DEF_NUM_RED = 10\n",
    "\n"
   ]
  },
  {
   "cell_type": "markdown",
   "metadata": {},
   "source": [
    "Next we call the `set_up` function to set up the environment, groups, and agents of the model."
   ]
  },
  {
   "cell_type": "code",
   "execution_count": null,
   "metadata": {},
   "outputs": [],
   "source": [
    "set_up()\n"
   ]
  },
  {
   "cell_type": "markdown",
   "metadata": {},
   "source": [
    "You can run the model N periods by typing the number you want in the following function and then running it."
   ]
  },
  {
   "cell_type": "code",
   "execution_count": null,
   "metadata": {},
   "outputs": [],
   "source": [
    "Env(\"env\",\n",
    ".runN()"
   ]
  },
  {
   "cell_type": "markdown",
   "metadata": {},
   "source": [
    "You can view the position of all of the agents in space with the following command:"
   ]
  },
  {
   "cell_type": "code",
   "execution_count": null,
   "metadata": {},
   "outputs": [],
   "source": [
    "Env(\"env\",\n",
    ".scatter_graph()"
   ]
  },
  {
   "cell_type": "markdown",
   "metadata": {},
   "source": [
    "You can view the line graph through the following command:"
   ]
  },
  {
   "cell_type": "code",
   "execution_count": null,
   "metadata": {},
   "outputs": [],
   "source": [
    "Env(\"env\",\n",
    ".line_graph()"
   ]
  }
 ],
 "metadata": {},
 "nbformat": 4,
 "nbformat_minor": 2
}
