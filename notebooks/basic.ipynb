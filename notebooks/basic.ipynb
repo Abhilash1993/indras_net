{
 "cells": [
  {
   "cell_type": "markdown",
   "metadata": {},
   "source": [
    "    # My first automatic Jupyter Notebook\n",
    "    This is an auto-generated notebook."
   ]
  },
  {
   "cell_type": "code",
   "execution_count": null,
   "metadata": {},
   "outputs": [],
   "source": [
    "from indra.utils import get_props\n",
    "from indra.agent import Agent\n",
    "from indra.composite import Composite\n",
    "from indra.space import DEF_HEIGHT, DEF_WIDTH\n",
    "from indra.env import Env\n",
    "from indra.display_methods import RED, BLUE\n"
   ]
  },
  {
   "cell_type": "code",
   "execution_count": null,
   "metadata": {},
   "outputs": [],
   "source": [
    "def set_up(props=None):\n",
    "    \"\"\"\n",
    "    A func to set up run that can also be used by test code.\n",
    "    \"\"\"\n",
    "    pa = get_props(MODEL_NAME, props)\n",
    "    blue_group = Composite(\"Blues\", {\"color\": BLUE},\n",
    "                           member_creator=create_agent,\n",
    "                           num_members=pa.get('num_blue', DEF_NUM_BLUE))\n",
    "    red_group = Composite(\"Reds\", {\"color\": RED},\n",
    "                          member_creator=create_agent,\n",
    "                          num_members=pa.get('num_red', DEF_NUM_RED))\n",
    "\n",
    "    env = Env(\"env\",\n",
    "              height=pa.get('grid_height', DEF_HEIGHT),\n",
    "              width=pa.get('grid_width', DEF_WIDTH),\n",
    "              members=[blue_group, red_group],\n",
    "              props=pa)\n",
    "\n",
    "    return (env, blue_group, red_group)\n"
   ]
  }
 ],
 "metadata": {},
 "nbformat": 4,
 "nbformat_minor": 2
}
