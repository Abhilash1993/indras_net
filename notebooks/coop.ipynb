{
 "cells": [
  {
   "cell_type": "markdown",
   "metadata": {},
   "source": [
    "# How to run the ../models/coop model."
   ]
  },
  {
   "cell_type": "markdown",
   "metadata": {},
   "source": [
    "First we import all necessary files."
   ]
  },
  {
   "cell_type": "code",
   "execution_count": null,
   "metadata": {},
   "outputs": [],
   "source": [
    "from models.coop import set_up"
   ]
  },
  {
   "cell_type": "markdown",
   "metadata": {},
   "source": [
    "We then initialize global variables."
   ]
  },
  {
   "cell_type": "code",
   "execution_count": null,
   "metadata": {},
   "outputs": [],
   "source": [
    "from indra.agent import Agent\n",
    "from indra.composite import Composite\n",
    "from indra.env import Env, UNLIMITED\n",
    "from indra.utils import gaussian\n",
    "from indra.user import user_tell\n",
    "from indra.utils import get_props\n",
    "\n",
    "MODEL_NAME = 'coop'\n",
    "\n",
    "DEF_BABYSITTER = 10\n",
    "DEF_DESIRED_CASH_BAL = 8\n",
    "DEF_COUPON = 2\n",
    "DEF_DISTRIBUTING_COUPON = 2\n",
    "DEF_SIGMA = 0.2\n",
    "DEF_PERCENT = 10\n",
    "# DEF_DISTRIBUTE_THRESHOLD = 5\n",
    "\n",
    "BSIT_INDEX = 0\n",
    "GO_OUT_INDEX = 1\n",
    "B_HOME = 2\n",
    "G_HOME = 3\n",
    "CENTRAL_BANK = 4\n",
    "NUM_OF_GROUPS = 4\n",
    "\n",
    "BABYSIT = \"BABYSITTING\"\n",
    "GO_OUT = \"GOING_OUT\"\n",
    "CB_intervention_points = []\n",
    "num_of_rounds = 1\n",
    "\n",
    "coop_members = None\n",
    "coop_env = None\n",
    "\n",
    "last_period_exchanges = 0\n",
    "last_period_unemployed = 0\n",
    "\n",
    "central_bank = None\n",
    "\n"
   ]
  },
  {
   "cell_type": "markdown",
   "metadata": {},
   "source": [
    "Next we call the `set_up` function to set up the environment, groups, and agents of the model."
   ]
  },
  {
   "cell_type": "code",
   "execution_count": null,
   "metadata": {},
   "outputs": [],
   "source": [
    "(coop_env, coop_members, central_bank) = set_up()\n"
   ]
  },
  {
   "cell_type": "markdown",
   "metadata": {},
   "source": [
    "You can run the model N periods by typing the number you want in the following function and then running it."
   ]
  },
  {
   "cell_type": "code",
   "execution_count": null,
   "metadata": {},
   "outputs": [],
   "source": [
    "coop_env.runN()"
   ]
  },
  {
   "cell_type": "markdown",
   "metadata": {},
   "source": [
    "You can view the position of all of the agents in space with the following command:"
   ]
  },
  {
   "cell_type": "code",
   "execution_count": null,
   "metadata": {},
   "outputs": [],
   "source": [
    "coop_env.scatter_graph()"
   ]
  },
  {
   "cell_type": "markdown",
   "metadata": {},
   "source": [
    "You can view the line graph through the following command:"
   ]
  },
  {
   "cell_type": "code",
   "execution_count": null,
   "metadata": {},
   "outputs": [],
   "source": [
    "coop_env.line_graph()"
   ]
  }
 ],
 "metadata": {},
 "nbformat": 4,
 "nbformat_minor": 2
}
