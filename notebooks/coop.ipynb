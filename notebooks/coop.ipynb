{
 "cells": [
  {
   "cell_type": "markdown",
   "metadata": {},
   "source": [
    "# How to run the ../models/coop model."
   ]
  },
  {
   "cell_type": "markdown",
   "metadata": {},
   "source": [
    "First we import all necessary files."
   ]
  },
  {
   "cell_type": "code",
   "execution_count": null,
   "metadata": {},
   "outputs": [],
   "source": [
    "from models.coop import set_up"
   ]
  },
  {
   "cell_type": "markdown",
   "metadata": {},
   "source": [
    "We then initialize global variables."
   ]
  },
  {
   "cell_type": "code",
   "execution_count": null,
   "metadata": {},
   "outputs": [],
   "source": [
    "from indra.utils import get_props\n",
    "from indra.agent import Agent\n",
    "from indra.composite import Composite\n",
    "from indra.env import Env, UNLIMITED\n",
    "from indra.display_methods import BLUE, ORANGE, RED, PURPLE, BLACK\n",
    "from indra.space import gaussian_distribution\n",
    "\n",
    "MODEL_NAME = 'coop'\n",
    "\n",
    "DEF_BABYSITTER = 10\n",
    "DEF_MIN_HOLDING = 3\n",
    "DEF_COUPON = 2\n",
    "DEF_DISTRIBUTING_COUPON = 2\n",
    "DEF_SIGMA = 0.2\n",
    "DEF_PERCENT = 10\n",
    "\n",
    "BSIT_INDEX = 0\n",
    "GO_OUT_INDEX = 1\n",
    "B_HOME = 2\n",
    "G_HOME = 3\n",
    "CENTRAL_BANK = 4\n",
    "\n",
    "groups = None\n",
    "group_indices = None\n",
    "coop_env = None\n",
    "\n"
   ]
  },
  {
   "cell_type": "markdown",
   "metadata": {},
   "source": [
    "Next we call the `set_up` function to set up the environment, groups, and agents of the model."
   ]
  },
  {
   "cell_type": "code",
   "execution_count": null,
   "metadata": {},
   "outputs": [],
   "source": [
    "(coop_env, groups, group_indices) = set_up()\n"
   ]
  },
  {
   "cell_type": "markdown",
   "metadata": {},
   "source": [
    "You can run the model N periods by typing the number you want in the following function and then running it."
   ]
  },
  {
   "cell_type": "code",
   "execution_count": null,
   "metadata": {},
   "outputs": [],
   "source": [
    "coop_env.runN()"
   ]
  },
  {
   "cell_type": "markdown",
   "metadata": {},
   "source": [
    "You can view the position of all of the agents in space with the following command:"
   ]
  },
  {
   "cell_type": "code",
   "execution_count": null,
   "metadata": {},
   "outputs": [],
   "source": [
    "coop_env.scatter_graph()"
   ]
  },
  {
   "cell_type": "markdown",
   "metadata": {},
   "source": [
    "You can view the line graph through the following command:"
   ]
  },
  {
   "cell_type": "code",
   "execution_count": null,
   "metadata": {},
   "outputs": [],
   "source": [
    "coop_env.line_graph()"
   ]
  }
 ],
 "metadata": {},
 "nbformat": 4,
 "nbformat_minor": 2
}
