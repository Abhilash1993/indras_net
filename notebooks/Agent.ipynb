{
 "cells": [
  {
   "cell_type": "markdown",
   "metadata": {},
   "source": [
    "## Indra Agent Class"
   ]
  },
  {
   "cell_type": "markdown",
   "metadata": {},
   "source": [
    "`agent.py` is the base class of all agents, environments, and objects contained in an environment.\n",
    "Its basic character is that it is a vector, and supports basic\n",
    "vector and matrix operations."
   ]
  },
  {
   "cell_type": "code",
   "execution_count": 1,
   "metadata": {},
   "outputs": [
    {
     "name": "stdout",
     "output_type": "stream",
     "text": [
      "/Users/monjurhasan/Desktop/DesktopFiles/CS/indras_net\n"
     ]
    }
   ],
   "source": [
    "cd .."
   ]
  },
  {
   "cell_type": "code",
   "execution_count": 2,
   "metadata": {},
   "outputs": [],
   "source": [
    "from indra2.agent import Agent"
   ]
  },
  {
   "cell_type": "markdown",
   "metadata": {},
   "source": [
    "Agent class constructor accepts 5 parameters:\n",
    "\n",
    "1. name \n",
    "2. attrs \n",
    "3. action \n",
    "4. duration\n",
    "5. groups "
   ]
  },
  {
   "cell_type": "markdown",
   "metadata": {},
   "source": [
    "Lets create an agent called newton."
   ]
  },
  {
   "cell_type": "code",
   "execution_count": 3,
   "metadata": {},
   "outputs": [],
   "source": [
    "def newt_action(agent):\n",
    "    print(\"I'm \" + agent.name + \" and I'm inventing modern mechanics!\")\n",
    "    \n",
    "newton =  Agent(\"Newton\",\n",
    "                  attrs={\"place\": 0.0, \"time\": 1658.0, \"achieve\": 43.9},\n",
    "                  action=newt_action,\n",
    "                  duration=30)\n"
   ]
  },
  {
   "cell_type": "markdown",
   "metadata": {},
   "source": [
    "Now we will explore all the magic methods of agent class."
   ]
  },
  {
   "cell_type": "markdown",
   "metadata": {},
   "source": [
    "* __len__ returns number of attributes of an agent"
   ]
  },
  {
   "cell_type": "code",
   "execution_count": 4,
   "metadata": {},
   "outputs": [
    {
     "data": {
      "text/plain": [
       "3"
      ]
     },
     "execution_count": 4,
     "metadata": {},
     "output_type": "execute_result"
    }
   ],
   "source": [
    "len(newton)"
   ]
  },
  {
   "cell_type": "markdown",
   "metadata": {},
   "source": [
    "* __str__ returns name of the agent"
   ]
  },
  {
   "cell_type": "code",
   "execution_count": 5,
   "metadata": {},
   "outputs": [
    {
     "data": {
      "text/plain": [
       "'Newton'"
      ]
     },
     "execution_count": 5,
     "metadata": {},
     "output_type": "execute_result"
    }
   ],
   "source": [
    "str(newton)"
   ]
  },
  {
   "cell_type": "markdown",
   "metadata": {},
   "source": [
    "* __getitem__ returns value of an attribute"
   ]
  },
  {
   "cell_type": "code",
   "execution_count": 6,
   "metadata": {},
   "outputs": [
    {
     "data": {
      "text/plain": [
       "1658.0"
      ]
     },
     "execution_count": 6,
     "metadata": {},
     "output_type": "execute_result"
    }
   ],
   "source": [
    "newton['time']"
   ]
  },
  {
   "cell_type": "markdown",
   "metadata": {},
   "source": [
    "*  __setitem__ sets/changes value of an attribute. Returns keyerror if agent doesn't have the attribute."
   ]
  },
  {
   "cell_type": "code",
   "execution_count": 7,
   "metadata": {},
   "outputs": [
    {
     "data": {
      "text/plain": [
       "2.5"
      ]
     },
     "execution_count": 7,
     "metadata": {},
     "output_type": "execute_result"
    }
   ],
   "source": [
    "newton['place'] = 2.5\n",
    "newton['place']"
   ]
  },
  {
   "cell_type": "markdown",
   "metadata": {},
   "source": [
    "* **contains** returns true if agent contains the attribute"
   ]
  },
  {
   "cell_type": "code",
   "execution_count": 8,
   "metadata": {},
   "outputs": [
    {
     "data": {
      "text/plain": [
       "True"
      ]
     },
     "execution_count": 8,
     "metadata": {},
     "output_type": "execute_result"
    }
   ],
   "source": [
    "\"time\" in newton"
   ]
  },
  {
   "cell_type": "markdown",
   "metadata": {},
   "source": [
    "* **iter** loops over attributes of an agent"
   ]
  },
  {
   "cell_type": "code",
   "execution_count": 9,
   "metadata": {},
   "outputs": [
    {
     "name": "stdout",
     "output_type": "stream",
     "text": [
      "place\n",
      "time\n",
      "achieve\n"
     ]
    }
   ],
   "source": [
    "for attr in newton:\n",
    "    print(attr)"
   ]
  },
  {
   "cell_type": "markdown",
   "metadata": {},
   "source": [
    "* **reversed** loops over attributes in reverse order"
   ]
  },
  {
   "cell_type": "code",
   "execution_count": 10,
   "metadata": {},
   "outputs": [
    {
     "name": "stdout",
     "output_type": "stream",
     "text": [
      "achieve\n",
      "time\n",
      "place\n"
     ]
    }
   ],
   "source": [
    "for attr in reversed(newton):\n",
    "    print(attr)"
   ]
  },
  {
   "cell_type": "markdown",
   "metadata": {},
   "source": [
    "* **eq** checks if two agents are equivalent"
   ]
  },
  {
   "cell_type": "code",
   "execution_count": 11,
   "metadata": {},
   "outputs": [
    {
     "name": "stdout",
     "output_type": "stream",
     "text": [
      "Leibniz & othere_Leibniz: False\n",
      "Leibniz & Leibniz: True\n",
      "Leibniz & Newton: False\n"
     ]
    }
   ],
   "source": [
    "LEIBBYEAR = 1646\n",
    "LEIBDYEAR = 1716\n",
    "def leib_action(agent):\n",
    "    print(\"I'm \" + agent.name + \" and I'm inventing calculus!\")\n",
    "\n",
    "leibniz = Agent(\"Leibniz\",\n",
    "                  attrs={\"place\": 0.0, \"time\": LEIBBYEAR},\n",
    "                  action=leib_action,\n",
    "                  duration=20)\n",
    "\n",
    "other_Leibniz = Agent(\"Leibniz\",\n",
    "                  attrs={\"place\": 1.0, \"time\": LEIBBYEAR},\n",
    "                  action=leib_action,\n",
    "                  duration=20)\n",
    "\n",
    "print(\"Leibniz & othere_Leibniz:\", leibniz == other_Leibniz)\n",
    "print(\"Leibniz & Leibniz:\", leibniz == leibniz)\n",
    "print(\"Leibniz & Newton:\", leibniz == newton)"
   ]
  },
  {
   "cell_type": "markdown",
   "metadata": {},
   "source": [
    "* **repr** "
   ]
  },
  {
   "cell_type": "code",
   "execution_count": 12,
   "metadata": {},
   "outputs": [
    {
     "data": {
      "text/plain": [
       "'{\\n    \"name\": \"Leibniz\",\\n    \"duration\": 20,\\n    \"pos\": null,\\n    \"attrs\": {\\n        \"place\": 0.0,\\n        \"time\": 1646.0\\n    },\\n    \"groups\": \"\"\\n}'"
      ]
     },
     "execution_count": 12,
     "metadata": {},
     "output_type": "execute_result"
    }
   ],
   "source": [
    "repr(leibniz)"
   ]
  },
  {
   "cell_type": "markdown",
   "metadata": {},
   "source": [
    "* **call**:  Agents will 'act' by being called as a function. If the agent has no `act()` function, do nothing. Agents should return True if they did, in fact,'do something,' or False if they did not."
   ]
  },
  {
   "cell_type": "code",
   "execution_count": 13,
   "metadata": {},
   "outputs": [
    {
     "name": "stdout",
     "output_type": "stream",
     "text": [
      "I'm Newton and I'm inventing modern mechanics!\n",
      "I'm Leibniz and I'm inventing calculus!\n"
     ]
    },
    {
     "data": {
      "text/plain": [
       "True"
      ]
     },
     "execution_count": 13,
     "metadata": {},
     "output_type": "execute_result"
    }
   ],
   "source": [
    "newton()\n",
    "leibniz()"
   ]
  },
  {
   "cell_type": "markdown",
   "metadata": {},
   "source": [
    "* **iadd** increases value of each attributes"
   ]
  },
  {
   "cell_type": "code",
   "execution_count": 14,
   "metadata": {},
   "outputs": [
    {
     "data": {
      "text/plain": [
       "{\n",
       "    \"name\": \"Newton\",\n",
       "    \"duration\": 29,\n",
       "    \"pos\": null,\n",
       "    \"attrs\": {\n",
       "        \"place\": 2.5,\n",
       "        \"time\": 1658.0,\n",
       "        \"achieve\": 43.9\n",
       "    },\n",
       "    \"groups\": \"\"\n",
       "}"
      ]
     },
     "execution_count": 14,
     "metadata": {},
     "output_type": "execute_result"
    }
   ],
   "source": [
    "newton"
   ]
  },
  {
   "cell_type": "code",
   "execution_count": 15,
   "metadata": {},
   "outputs": [],
   "source": [
    "newton += 2"
   ]
  },
  {
   "cell_type": "code",
   "execution_count": 16,
   "metadata": {},
   "outputs": [
    {
     "data": {
      "text/plain": [
       "{\n",
       "    \"name\": \"Newton\",\n",
       "    \"duration\": 29,\n",
       "    \"pos\": null,\n",
       "    \"attrs\": {\n",
       "        \"place\": 4.5,\n",
       "        \"time\": 1660.0,\n",
       "        \"achieve\": 45.9\n",
       "    },\n",
       "    \"groups\": \"\"\n",
       "}"
      ]
     },
     "execution_count": 16,
     "metadata": {},
     "output_type": "execute_result"
    }
   ],
   "source": [
    "newton"
   ]
  },
  {
   "cell_type": "code",
   "execution_count": 17,
   "metadata": {},
   "outputs": [
    {
     "data": {
      "text/plain": [
       "{\n",
       "    \"name\": \"Newton\",\n",
       "    \"duration\": 29,\n",
       "    \"pos\": null,\n",
       "    \"attrs\": {\n",
       "        \"place\": 6.5,\n",
       "        \"time\": 1662.0,\n",
       "        \"achieve\": 47.9\n",
       "    },\n",
       "    \"groups\": \"\"\n",
       "}"
      ]
     },
     "execution_count": 17,
     "metadata": {},
     "output_type": "execute_result"
    }
   ],
   "source": [
    "newton += 2 \n",
    "newton"
   ]
  },
  {
   "cell_type": "markdown",
   "metadata": {},
   "source": [
    "* **isub** this is opposite of iadd - substracts values of attributes."
   ]
  },
  {
   "cell_type": "code",
   "execution_count": 18,
   "metadata": {},
   "outputs": [
    {
     "data": {
      "text/plain": [
       "{\n",
       "    \"name\": \"Newton\",\n",
       "    \"duration\": 29,\n",
       "    \"pos\": null,\n",
       "    \"attrs\": {\n",
       "        \"place\": 4.5,\n",
       "        \"time\": 1660.0,\n",
       "        \"achieve\": 45.9\n",
       "    },\n",
       "    \"groups\": \"\"\n",
       "}"
      ]
     },
     "execution_count": 18,
     "metadata": {},
     "output_type": "execute_result"
    }
   ],
   "source": [
    "newton -= 2\n",
    "newton"
   ]
  },
  {
   "cell_type": "markdown",
   "metadata": {},
   "source": [
    "* **imul** multiplies each attributes"
   ]
  },
  {
   "cell_type": "code",
   "execution_count": 19,
   "metadata": {},
   "outputs": [
    {
     "data": {
      "text/plain": [
       "{\n",
       "    \"name\": \"Newton\",\n",
       "    \"duration\": 29,\n",
       "    \"pos\": null,\n",
       "    \"attrs\": {\n",
       "        \"place\": 9.0,\n",
       "        \"time\": 3320.0,\n",
       "        \"achieve\": 91.8\n",
       "    },\n",
       "    \"groups\": \"\"\n",
       "}"
      ]
     },
     "execution_count": 19,
     "metadata": {},
     "output_type": "execute_result"
    }
   ],
   "source": [
    "newton *= 2\n",
    "newton"
   ]
  },
  {
   "cell_type": "markdown",
   "metadata": {},
   "source": [
    "* **add** adds two agents making it a composite/group. Name of the composite/group is concatinated names of all the agents. As shown below, agents become members of the composite."
   ]
  },
  {
   "cell_type": "code",
   "execution_count": 21,
   "metadata": {},
   "outputs": [],
   "source": [
    "import composite"
   ]
  },
  {
   "cell_type": "code",
   "execution_count": 45,
   "metadata": {},
   "outputs": [],
   "source": [
    "comp = newton + leibniz"
   ]
  },
  {
   "cell_type": "code",
   "execution_count": 46,
   "metadata": {},
   "outputs": [
    {
     "data": {
      "text/plain": [
       "{\n",
       "    \"name\": \"NewtonLeibniz\",\n",
       "    \"attrs\": {},\n",
       "    \"members\": {\n",
       "        \"Newton\": {\n",
       "            \"name\": \"Newton\",\n",
       "            \"duration\": 29,\n",
       "            \"pos\": null,\n",
       "            \"attrs\": {\n",
       "                \"place\": 9.0,\n",
       "                \"time\": 3320.0,\n",
       "                \"achieve\": 91.8\n",
       "            },\n",
       "            \"groups\": \"NewtonLeibniz \"\n",
       "        },\n",
       "        \"Leibniz\": {\n",
       "            \"name\": \"Leibniz\",\n",
       "            \"duration\": 19,\n",
       "            \"pos\": null,\n",
       "            \"attrs\": {\n",
       "                \"place\": 0.0,\n",
       "                \"time\": 1646.0\n",
       "            },\n",
       "            \"groups\": \"NewtonLeibniz \"\n",
       "        }\n",
       "    }\n",
       "}"
      ]
     },
     "execution_count": 46,
     "metadata": {},
     "output_type": "execute_result"
    }
   ],
   "source": [
    "comp"
   ]
  },
  {
   "cell_type": "markdown",
   "metadata": {},
   "source": [
    "**Now we will explore general class methods**"
   ]
  },
  {
   "cell_type": "markdown",
   "metadata": {},
   "source": [
    "* to_json() - Returns json respresentation of the agent."
   ]
  },
  {
   "cell_type": "code",
   "execution_count": 47,
   "metadata": {},
   "outputs": [
    {
     "data": {
      "text/plain": [
       "{'name': 'Newton',\n",
       " 'duration': 29,\n",
       " 'pos': None,\n",
       " 'attrs': OrderedDict([('place', 9.0), ('time', 3320.0), ('achieve', 91.8)]),\n",
       " 'groups': 'NewtonLeibniz '}"
      ]
     },
     "execution_count": 47,
     "metadata": {},
     "output_type": "execute_result"
    }
   ],
   "source": [
    "newton.to_json()"
   ]
  },
  {
   "cell_type": "code",
   "execution_count": 48,
   "metadata": {},
   "outputs": [],
   "source": [
    "ModernNewton =  Agent(\"ModerNewton\",\n",
    "                  attrs={\"place\": 0.0, \"time\": 1658.0, \"achieve\": 43.9},\n",
    "                  action=newt_action,\n",
    "                  duration=30)\n"
   ]
  },
  {
   "cell_type": "markdown",
   "metadata": {},
   "source": [
    "* **join_group**"
   ]
  },
  {
   "cell_type": "code",
   "execution_count": 49,
   "metadata": {},
   "outputs": [],
   "source": [
    "ModernNewton.join_group(comp) "
   ]
  },
  {
   "cell_type": "code",
   "execution_count": 50,
   "metadata": {},
   "outputs": [
    {
     "data": {
      "text/plain": [
       "{\n",
       "    \"name\": \"ModerNewton\",\n",
       "    \"duration\": 30,\n",
       "    \"pos\": null,\n",
       "    \"attrs\": {\n",
       "        \"place\": 0.0,\n",
       "        \"time\": 1658.0,\n",
       "        \"achieve\": 43.9\n",
       "    },\n",
       "    \"groups\": \"NewtonLeibniz \"\n",
       "}"
      ]
     },
     "execution_count": 50,
     "metadata": {},
     "output_type": "execute_result"
    }
   ],
   "source": [
    "ModernNewton"
   ]
  },
  {
   "cell_type": "code",
   "execution_count": 51,
   "metadata": {},
   "outputs": [
    {
     "data": {
      "text/plain": [
       "{\n",
       "    \"name\": \"NewtonLeibniz\",\n",
       "    \"attrs\": {},\n",
       "    \"members\": {\n",
       "        \"Newton\": {\n",
       "            \"name\": \"Newton\",\n",
       "            \"duration\": 29,\n",
       "            \"pos\": null,\n",
       "            \"attrs\": {\n",
       "                \"place\": 9.0,\n",
       "                \"time\": 3320.0,\n",
       "                \"achieve\": 91.8\n",
       "            },\n",
       "            \"groups\": \"NewtonLeibniz \"\n",
       "        },\n",
       "        \"Leibniz\": {\n",
       "            \"name\": \"Leibniz\",\n",
       "            \"duration\": 19,\n",
       "            \"pos\": null,\n",
       "            \"attrs\": {\n",
       "                \"place\": 0.0,\n",
       "                \"time\": 1646.0\n",
       "            },\n",
       "            \"groups\": \"NewtonLeibniz \"\n",
       "        }\n",
       "    }\n",
       "}"
      ]
     },
     "execution_count": 51,
     "metadata": {},
     "output_type": "execute_result"
    }
   ],
   "source": [
    "comp"
   ]
  },
  {
   "cell_type": "markdown",
   "metadata": {},
   "source": [
    "* **same_type** - Returns true if agents are of same type."
   ]
  },
  {
   "cell_type": "code",
   "execution_count": 59,
   "metadata": {},
   "outputs": [
    {
     "data": {
      "text/plain": [
       "False"
      ]
     },
     "execution_count": 59,
     "metadata": {},
     "output_type": "execute_result"
    }
   ],
   "source": [
    "newton.same_type(leibniz)"
   ]
  },
  {
   "cell_type": "code",
   "execution_count": 60,
   "metadata": {},
   "outputs": [
    {
     "data": {
      "text/plain": [
       "True"
      ]
     },
     "execution_count": 60,
     "metadata": {},
     "output_type": "execute_result"
    }
   ],
   "source": [
    "newton.same_type(newton)"
   ]
  },
  {
   "cell_type": "markdown",
   "metadata": {},
   "source": [
    "* **attrs_to_dict** - returns ordered dictionary representing attributes"
   ]
  },
  {
   "cell_type": "code",
   "execution_count": 63,
   "metadata": {},
   "outputs": [
    {
     "data": {
      "text/plain": [
       "OrderedDict([('place', 9.0), ('time', 3320.0), ('achieve', 91.8)])"
      ]
     },
     "execution_count": 63,
     "metadata": {},
     "output_type": "execute_result"
    }
   ],
   "source": [
    "newton.attrs_to_dict()"
   ]
  },
  {
   "cell_type": "markdown",
   "metadata": {},
   "source": [
    "* **sum** - Returns sum of all the attributes"
   ]
  },
  {
   "cell_type": "code",
   "execution_count": 66,
   "metadata": {},
   "outputs": [
    {
     "data": {
      "text/plain": [
       "3420.8"
      ]
     },
     "execution_count": 66,
     "metadata": {},
     "output_type": "execute_result"
    }
   ],
   "source": [
    "newton.sum()"
   ]
  },
  {
   "cell_type": "markdown",
   "metadata": {},
   "source": [
    "* **magnitude** - "
   ]
  },
  {
   "cell_type": "code",
   "execution_count": 75,
   "metadata": {},
   "outputs": [
    {
     "data": {
      "text/plain": [
       "3321.2811142690107"
      ]
     },
     "execution_count": 75,
     "metadata": {},
     "output_type": "execute_result"
    }
   ],
   "source": [
    "newton.magnitude()"
   ]
  },
  {
   "cell_type": "markdown",
   "metadata": {},
   "source": [
    "* **die** - makes agent inactive"
   ]
  },
  {
   "cell_type": "code",
   "execution_count": 76,
   "metadata": {},
   "outputs": [],
   "source": [
    "# newton.die()"
   ]
  },
  {
   "cell_type": "markdown",
   "metadata": {},
   "source": [
    "* **is_active** - returns true if agent is active"
   ]
  },
  {
   "cell_type": "markdown",
   "metadata": {},
   "source": [
    "* **set_pos**, **get_pos**, **get_x**, **get_y** - sets or returns x,y co-ordinates of the agent."
   ]
  },
  {
   "cell_type": "code",
   "execution_count": 78,
   "metadata": {},
   "outputs": [
    {
     "data": {
      "text/plain": [
       "{\n",
       "    \"name\": \"Newton\",\n",
       "    \"duration\": -1,\n",
       "    \"pos\": null,\n",
       "    \"attrs\": {\n",
       "        \"place\": 9.0,\n",
       "        \"time\": 3320.0,\n",
       "        \"achieve\": 91.8\n",
       "    },\n",
       "    \"groups\": \"NewtonLeibniz \"\n",
       "}"
      ]
     },
     "execution_count": 78,
     "metadata": {},
     "output_type": "execute_result"
    }
   ],
   "source": [
    "newton"
   ]
  },
  {
   "cell_type": "code",
   "execution_count": 79,
   "metadata": {},
   "outputs": [],
   "source": [
    "newton.set_pos(100,100)"
   ]
  },
  {
   "cell_type": "code",
   "execution_count": 80,
   "metadata": {},
   "outputs": [
    {
     "data": {
      "text/plain": [
       "{\n",
       "    \"name\": \"Newton\",\n",
       "    \"duration\": -1,\n",
       "    \"pos\": [\n",
       "        100,\n",
       "        100\n",
       "    ],\n",
       "    \"attrs\": {\n",
       "        \"place\": 9.0,\n",
       "        \"time\": 3320.0,\n",
       "        \"achieve\": 91.8\n",
       "    },\n",
       "    \"groups\": \"NewtonLeibniz \"\n",
       "}"
      ]
     },
     "execution_count": 80,
     "metadata": {},
     "output_type": "execute_result"
    }
   ],
   "source": [
    "newton"
   ]
  },
  {
   "cell_type": "markdown",
   "metadata": {},
   "source": [
    "* **is_located** - Returns true if position of the agent is not None"
   ]
  },
  {
   "cell_type": "code",
   "execution_count": null,
   "metadata": {},
   "outputs": [],
   "source": []
  }
 ],
 "metadata": {
  "kernelspec": {
   "display_name": "Python 3",
   "language": "python",
   "name": "python3"
  },
  "language_info": {
   "codemirror_mode": {
    "name": "ipython",
    "version": 3
   },
   "file_extension": ".py",
   "mimetype": "text/x-python",
   "name": "python",
   "nbconvert_exporter": "python",
   "pygments_lexer": "ipython3",
   "version": "3.7.0"
  }
 },
 "nbformat": 4,
 "nbformat_minor": 2
}
