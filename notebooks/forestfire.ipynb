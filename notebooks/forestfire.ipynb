{
 "cells": [
  {
   "cell_type": "markdown",
   "metadata": {},
   "source": [
    "# How to run the ../models/forestfire model."
   ]
  },
  {
   "cell_type": "markdown",
   "metadata": {},
   "source": [
    "First we import all necessary files."
   ]
  },
  {
   "cell_type": "code",
   "execution_count": null,
   "metadata": {},
   "outputs": [],
   "source": [
    "from indra.utils import get_props\n",
    "from indra.agent import prob_state_trans\n",
    "from indra.agent import Agent\n",
    "from indra.composite import Composite\n",
    "from indra.env import Env\n",
    "from indra.display_methods import RED, GREEN, BLACK, SPRINGGREEN, TOMATO, TREE\n",
    "from models.forestfire import set_up"
   ]
  },
  {
   "cell_type": "markdown",
   "metadata": {},
   "source": [
    "We then initialize global variables."
   ]
  },
  {
   "cell_type": "code",
   "execution_count": null,
   "metadata": {},
   "outputs": [],
   "source": [
    "MODEL_NAME = \"forestfire\"\n",
    "DEBUG = False  # turns debugging code on or off\n",
    "DEBUG2 = False  # turns deeper debugging code on or off\n",
    "\n",
    "NEARBY = 1.8\n",
    "\n",
    "DEF_DIM = 30\n",
    "DEF_DENSITY = .44\n",
    "\n",
    "TREE_PREFIX = \"Tree\"\n",
    "\n",
    "# tree condition strings\n",
    "HEALTHY = \"Healthy\"\n",
    "NEW_FIRE = \"New Fire\"\n",
    "ON_FIRE = \"On Fire\"\n",
    "BURNED_OUT = \"Burned Out\"\n",
    "NEW_GROWTH = \"New Growth\"\n",
    "\n",
    "# state numbers\n",
    "HE = 0\n",
    "NF = 1\n",
    "OF = 2\n",
    "BO = 3\n",
    "NG = 4\n",
    "\n",
    "NUM_STATES = 5\n",
    "\n",
    "STATE_MAP = {HE: HEALTHY, NF: NEW_FIRE,\n",
    "             OF: ON_FIRE, BO: BURNED_OUT, NG: NEW_GROWTH}\n",
    "\n",
    "STATE_TRANS = [\n",
    "    [.985, .015, 0.0, 0.0, 0.0],\n",
    "    [0.0, 0.0, 1.0, 0.0, 0.0],\n",
    "    [0.0, 0.0, 0.0, 1.0, 0.0],\n",
    "    [0.0, 0.0, 0.0, .99, .01],\n",
    "    [1.0, 0.0, 0.0, 0.0, 0.0],\n",
    "]\n",
    "\n",
    "on_fire = None\n",
    "healthy = None\n",
    "\n",
    "group_map = {HE: None, NF: None, OF: None, BO: None, NG: None}\n",
    "\n"
   ]
  },
  {
   "cell_type": "markdown",
   "metadata": {},
   "source": [
    "Next we call the `set_up` function to set up the environment, groups, and agents of the model."
   ]
  },
  {
   "cell_type": "code",
   "execution_count": null,
   "metadata": {},
   "outputs": [],
   "source": [
    "(forest, group_map) = set_up()\n"
   ]
  },
  {
   "cell_type": "markdown",
   "metadata": {},
   "source": [
    "You can run the model N periods by typing the number you want in the following function and then running it."
   ]
  },
  {
   "cell_type": "code",
   "execution_count": null,
   "metadata": {},
   "outputs": [],
   "source": [
    "forest.runN()"
   ]
  },
  {
   "cell_type": "markdown",
   "metadata": {},
   "source": [
    "You can view the position of all of the agents in space with the following command:"
   ]
  },
  {
   "cell_type": "code",
   "execution_count": null,
   "metadata": {},
   "outputs": [],
   "source": [
    "forest.scatter_graph()"
   ]
  },
  {
   "cell_type": "markdown",
   "metadata": {},
   "source": [
    "You can view the line graph through the following command:"
   ]
  },
  {
   "cell_type": "code",
   "execution_count": null,
   "metadata": {},
   "outputs": [],
   "source": [
    "forest.line_graph()"
   ]
  }
 ],
 "metadata": {},
 "nbformat": 4,
 "nbformat_minor": 2
}
