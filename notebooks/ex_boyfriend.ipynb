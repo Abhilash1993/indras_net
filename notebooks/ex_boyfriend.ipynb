{
 "cells": [
  {
   "cell_type": "markdown",
   "metadata": {},
   "source": [
    "# How to run the ../models/ex_boyfriend model."
   ]
  },
  {
   "cell_type": "markdown",
   "metadata": {},
   "source": [
    "First we import all necessary files."
   ]
  },
  {
   "cell_type": "code",
   "execution_count": null,
   "metadata": {},
   "outputs": [],
   "source": [
    "from indra.utils import get_props\n",
    "from indra.agent import Agent\n",
    "from indra.composite import Composite\n",
    "from indra.space import DEF_HEIGHT, DEF_WIDTH\n",
    "from indra.env import Env\n",
    "from indra.display_methods import RED, BLUE\n",
    "from models.ex_boyfriend import set_up"
   ]
  },
  {
   "cell_type": "markdown",
   "metadata": {},
   "source": [
    "We then initialize global variables."
   ]
  },
  {
   "cell_type": "code",
   "execution_count": null,
   "metadata": {},
   "outputs": [],
   "source": [
    "import random\n",
    "\n",
    "MODEL_NAME = \"ex_boyfriend\"\n",
    "DEBUG = True  # turns debugging code on or off\n",
    "DEBUG2 = False  # turns deeper debugging code on or off\n",
    "\n",
    "# Girlfriend's State Strings\n",
    "PICK_RANDOM = \"Pick Random Cycle\"\n",
    "REPEAT_CYCLE = \"Repeat Cycle\"\n",
    "CHANGE_DAY = \"Change day\"\n",
    "SUCCESS = \"Success\"\n",
    "\n",
    "# state numbers\n",
    "PR = 0\n",
    "RC = 1\n",
    "CD = 2\n",
    "SU = 3\n",
    "\n",
    "NUM_STATES = 4\n",
    "\n",
    "STATE_MAP = {PR: PICK_RANDOM, RC: REPEAT_CYCLE,\n",
    "             CD: CHANGE_DAY, SU: SUCCESS}\n",
    "\n",
    "DEF_NUM_BLUE = 1\n",
    "DEF_NUM_RED = 1\n",
    "DEF_CYCLE = 7\n",
    "\n",
    "girlfriend = None\n",
    "ex_boyfriend = None\n",
    "bar = None\n",
    "\n",
    "girlfriend_cycle = None\n",
    "ex_boyfriend_start = None\n",
    "girlfriend_start = None\n",
    "period = None\n",
    "boyfriend_going = False\n",
    "day = None\n",
    "\n"
   ]
  },
  {
   "cell_type": "markdown",
   "metadata": {},
   "source": [
    "Next we call the `set_up` function to set up the environment, groups, and agents of the model."
   ]
  },
  {
   "cell_type": "code",
   "execution_count": null,
   "metadata": {},
   "outputs": [],
   "source": [
    "(bar, ex_boyfriend, girlfriend) = set_up()\n"
   ]
  },
  {
   "cell_type": "markdown",
   "metadata": {},
   "source": [
    "You can run the model N periods by typing the number you want in the following function and then running it."
   ]
  },
  {
   "cell_type": "code",
   "execution_count": null,
   "metadata": {},
   "outputs": [],
   "source": [
    "bar.runN()"
   ]
  },
  {
   "cell_type": "markdown",
   "metadata": {},
   "source": [
    "You can view the position of all of the agents in space with the following command:"
   ]
  },
  {
   "cell_type": "code",
   "execution_count": null,
   "metadata": {},
   "outputs": [],
   "source": [
    "bar.scatter_graph()"
   ]
  },
  {
   "cell_type": "markdown",
   "metadata": {},
   "source": [
    "You can view the line graph through the following command:"
   ]
  },
  {
   "cell_type": "code",
   "execution_count": null,
   "metadata": {},
   "outputs": [],
   "source": [
    "bar.line_graph()"
   ]
  }
 ],
 "metadata": {},
 "nbformat": 4,
 "nbformat_minor": 2
}
