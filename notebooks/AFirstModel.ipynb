{
 "cells": [
  {
   "cell_type": "markdown",
   "metadata": {},
   "source": [
    "## A First Model Using Indra2 ##\n",
    "\n",
    "The aim of re-writing the library code upon which Indra models relied was to reduce the complexity of the system, and achieve greater expressiveness with fewer lines of code.\n",
    "\n",
    "So far, the results look promising. Let's take a look at the beginnings of the first model being written based on the `indra2` library. This is a classic <a href=\"https://en.wikipedia.org/wiki/Lotka–Volterra_equations\">predator-prey model</a>, often called \"wolf-sheep\" in the ABM world. The central idea is to model how populations of predators and their prey will cycle in a circumscribed environment.\n",
    "\n",
    "The first thing to do is import the (few!) items we need to get going:"
   ]
  },
  {
   "cell_type": "code",
   "execution_count": 6,
   "metadata": {},
   "outputs": [
    {
     "ename": "ModuleNotFoundError",
     "evalue": "No module named 'Time'",
     "output_type": "error",
     "traceback": [
      "\u001b[0;31m---------------------------------------------------------------------------\u001b[0m",
      "\u001b[0;31mModuleNotFoundError\u001b[0m                       Traceback (most recent call last)",
      "\u001b[0;32m<ipython-input-6-12849d5b12c6>\u001b[0m in \u001b[0;36m<module>\u001b[0;34m()\u001b[0m\n\u001b[1;32m      1\u001b[0m \u001b[0;32mfrom\u001b[0m \u001b[0mindra\u001b[0m\u001b[0;34m.\u001b[0m\u001b[0magent\u001b[0m \u001b[0;32mimport\u001b[0m \u001b[0mAgent\u001b[0m\u001b[0;34m,\u001b[0m \u001b[0mAgentEncoder\u001b[0m\u001b[0;34m\u001b[0m\u001b[0m\n\u001b[1;32m      2\u001b[0m \u001b[0;32mfrom\u001b[0m \u001b[0mindra\u001b[0m\u001b[0;34m.\u001b[0m\u001b[0mcomposite\u001b[0m \u001b[0;32mimport\u001b[0m \u001b[0mComposite\u001b[0m\u001b[0;34m\u001b[0m\u001b[0m\n\u001b[0;32m----> 3\u001b[0;31m \u001b[0;32mimport\u001b[0m \u001b[0mTime\u001b[0m\u001b[0;34m\u001b[0m\u001b[0m\n\u001b[0m",
      "\u001b[0;31mModuleNotFoundError\u001b[0m: No module named 'Time'"
     ]
    }
   ],
   "source": [
    "from indra.agent import Agent, AgentEncoder\n",
    "from indra.composite import Composite\n",
    "from itime import Time"
   ]
  },
  {
   "cell_type": "markdown",
   "metadata": {},
   "source": [
    "Next define a few constants -- these will be params in the fully developed system:"
   ]
  },
  {
   "cell_type": "code",
   "execution_count": 5,
   "metadata": {},
   "outputs": [],
   "source": [
    "NUM_WOLVES = 3\n",
    "NUM_SHEEP = 12\n",
    "\n",
    "WOLF_LIFESPAN = 5\n",
    "WOLF_REPRO_PERIOD = 6\n",
    "\n",
    "SHEEP_LIFESPAN = 8\n",
    "SHEEP_REPRO_PERIOD = 6"
   ]
  },
  {
   "cell_type": "markdown",
   "metadata": {},
   "source": [
    "Now we will define what wolves and sheep do when called upon to act -- the model is far from done at this point, and these actions are trivial, but they illustrate the use of the system:"
   ]
  },
  {
   "cell_type": "code",
   "execution_count": 11,
   "metadata": {},
   "outputs": [],
   "source": [
    "def sheep_action(agent):\n",
    "    print(\"I'm \" + agent.name + \" and I eat grass.\")\n",
    "    \n",
    "def wolf_action(agent):\n",
    "    print(\"I'm \" + agent.name + \" and my remaining life is: \"\n",
    "          + str(agent.duration))"
   ]
  },
  {
   "cell_type": "markdown",
   "metadata": {},
   "source": [
    "Next let's create to helper functions to create wolves and sheep, just to make the code following this a little simpler:"
   ]
  },
  {
   "cell_type": "code",
   "execution_count": 12,
   "metadata": {},
   "outputs": [],
   "source": [
    "def create_wolf(i):\n",
    "    return Agent(\"wolf\" + str(i), duration=WOLF_LIFESPAN,\n",
    "                     action=wolf_action,\n",
    "                     attrs={\"time_to_repr\": WOLF_REPRO_PERIOD})\n",
    "\n",
    "\n",
    "def create_sheep(i):\n",
    "    return Agent(\"sheep\" + str(i), duration=SHEEP_LIFESPAN,\n",
    "                     action=sheep_action,\n",
    "                     attrs={\"time_to_repr\": SHEEP_REPRO_PERIOD})"
   ]
  },
  {
   "cell_type": "markdown",
   "metadata": {},
   "source": [
    "Now we have everything we need to create our populations and put them in a meadow to interact:"
   ]
  },
  {
   "cell_type": "code",
   "execution_count": 19,
   "metadata": {},
   "outputs": [],
   "source": [
    "wolves = Composite(\"wolves\")\n",
    "for i in range(NUM_WOLVES):\n",
    "    wolves += create_wolf(i)\n",
    "\n",
    "sheep = Composite(\"sheep\")\n",
    "for i in range(NUM_SHEEP):\n",
    "    sheep += create_sheep(i)"
   ]
  },
  {
   "cell_type": "markdown",
   "metadata": {},
   "source": [
    "Now we will create a \"meadow\" in which these critters will interact -- the meadow is, right now, an instance of `Time` but it will ultimately be an instance of `SpaceTime`, once we are done building `Space`:"
   ]
  },
  {
   "cell_type": "code",
   "execution_count": 20,
   "metadata": {},
   "outputs": [],
   "source": [
    "meadow = Time(\"meadow\")\n",
    "meadow += wolves\n",
    "meadow += sheep"
   ]
  },
  {
   "cell_type": "markdown",
   "metadata": {},
   "source": [
    "Lastly, we set things going in the meadow:"
   ]
  },
  {
   "cell_type": "code",
   "execution_count": 21,
   "metadata": {},
   "outputs": [
    {
     "name": "stdout",
     "output_type": "stream",
     "text": [
      "I'm wolf0 and my remaining life is: 4\n",
      "I'm wolf1 and my remaining life is: 4\n",
      "I'm wolf2 and my remaining life is: 4\n",
      "I'm sheep0 and I eat grass.\n",
      "I'm sheep1 and I eat grass.\n",
      "I'm sheep2 and I eat grass.\n",
      "I'm sheep3 and I eat grass.\n",
      "I'm sheep4 and I eat grass.\n",
      "I'm sheep5 and I eat grass.\n",
      "I'm sheep6 and I eat grass.\n",
      "I'm sheep7 and I eat grass.\n",
      "I'm sheep8 and I eat grass.\n",
      "I'm sheep9 and I eat grass.\n",
      "I'm sheep10 and I eat grass.\n",
      "I'm sheep11 and I eat grass.\n",
      "\n",
      "In period 0 there were 15 actions taken.\n",
      "\n",
      "I'm wolf0 and my remaining life is: 3\n",
      "I'm wolf1 and my remaining life is: 3\n",
      "I'm wolf2 and my remaining life is: 3\n",
      "I'm sheep0 and I eat grass.\n",
      "I'm sheep1 and I eat grass.\n",
      "I'm sheep2 and I eat grass.\n",
      "I'm sheep3 and I eat grass.\n",
      "I'm sheep4 and I eat grass.\n",
      "I'm sheep5 and I eat grass.\n",
      "I'm sheep6 and I eat grass.\n",
      "I'm sheep7 and I eat grass.\n",
      "I'm sheep8 and I eat grass.\n",
      "I'm sheep9 and I eat grass.\n",
      "I'm sheep10 and I eat grass.\n",
      "I'm sheep11 and I eat grass.\n",
      "\n",
      "In period 1 there were 15 actions taken.\n",
      "\n",
      "I'm wolf0 and my remaining life is: 2\n",
      "I'm wolf1 and my remaining life is: 2\n",
      "I'm wolf2 and my remaining life is: 2\n",
      "I'm sheep0 and I eat grass.\n",
      "I'm sheep1 and I eat grass.\n",
      "I'm sheep2 and I eat grass.\n",
      "I'm sheep3 and I eat grass.\n",
      "I'm sheep4 and I eat grass.\n",
      "I'm sheep5 and I eat grass.\n",
      "I'm sheep6 and I eat grass.\n",
      "I'm sheep7 and I eat grass.\n",
      "I'm sheep8 and I eat grass.\n",
      "I'm sheep9 and I eat grass.\n",
      "I'm sheep10 and I eat grass.\n",
      "I'm sheep11 and I eat grass.\n",
      "\n",
      "In period 2 there were 15 actions taken.\n",
      "\n",
      "I'm wolf0 and my remaining life is: 1\n",
      "I'm wolf1 and my remaining life is: 1\n",
      "I'm wolf2 and my remaining life is: 1\n",
      "I'm sheep0 and I eat grass.\n",
      "I'm sheep1 and I eat grass.\n",
      "I'm sheep2 and I eat grass.\n",
      "I'm sheep3 and I eat grass.\n",
      "I'm sheep4 and I eat grass.\n",
      "I'm sheep5 and I eat grass.\n",
      "I'm sheep6 and I eat grass.\n",
      "I'm sheep7 and I eat grass.\n",
      "I'm sheep8 and I eat grass.\n",
      "I'm sheep9 and I eat grass.\n",
      "I'm sheep10 and I eat grass.\n",
      "I'm sheep11 and I eat grass.\n",
      "\n",
      "In period 3 there were 15 actions taken.\n",
      "\n",
      "I'm sheep0 and I eat grass.\n",
      "I'm sheep1 and I eat grass.\n",
      "I'm sheep2 and I eat grass.\n",
      "I'm sheep3 and I eat grass.\n",
      "I'm sheep4 and I eat grass.\n",
      "I'm sheep5 and I eat grass.\n",
      "I'm sheep6 and I eat grass.\n",
      "I'm sheep7 and I eat grass.\n",
      "I'm sheep8 and I eat grass.\n",
      "I'm sheep9 and I eat grass.\n",
      "I'm sheep10 and I eat grass.\n",
      "I'm sheep11 and I eat grass.\n",
      "\n",
      "In period 4 there were 12 actions taken.\n",
      "\n",
      "I'm sheep0 and I eat grass.\n",
      "I'm sheep1 and I eat grass.\n",
      "I'm sheep2 and I eat grass.\n",
      "I'm sheep3 and I eat grass.\n",
      "I'm sheep4 and I eat grass.\n",
      "I'm sheep5 and I eat grass.\n",
      "I'm sheep6 and I eat grass.\n",
      "I'm sheep7 and I eat grass.\n",
      "I'm sheep8 and I eat grass.\n",
      "I'm sheep9 and I eat grass.\n",
      "I'm sheep10 and I eat grass.\n",
      "I'm sheep11 and I eat grass.\n",
      "Deleting key wolf0\n",
      "Deleting key wolf1\n",
      "Deleting key wolf2\n",
      "\n",
      "In period 5 there were 12 actions taken.\n",
      "\n"
     ]
    },
    {
     "data": {
      "text/plain": [
       "84"
      ]
     },
     "execution_count": 21,
     "metadata": {},
     "output_type": "execute_result"
    }
   ],
   "source": [
    "meadow(6)"
   ]
  },
  {
   "cell_type": "code",
   "execution_count": null,
   "metadata": {},
   "outputs": [],
   "source": []
  }
 ],
 "metadata": {
  "kernelspec": {
   "display_name": "Python 3",
   "language": "python",
   "name": "python3"
  },
  "language_info": {
   "codemirror_mode": {
    "name": "ipython",
    "version": 3
   },
   "file_extension": ".py",
   "mimetype": "text/x-python",
   "name": "python",
   "nbconvert_exporter": "python",
   "pygments_lexer": "ipython3",
   "version": "3.6.4"
  }
 },
 "nbformat": 4,
 "nbformat_minor": 2
}
