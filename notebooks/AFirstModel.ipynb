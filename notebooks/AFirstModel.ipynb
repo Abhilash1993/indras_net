{
 "cells": [
  {
   "cell_type": "markdown",
   "metadata": {},
   "source": [
    "## A First Model Using Indra2 ##\n",
    "\n",
    "The aim of re-writing the library code upon which Indra models relied was to reduce the complexity of the system, and achieve greater expressiveness with fewer lines of code.\n",
    "\n",
    "So far, the results look promising. Let's take a look at the beginnings of the first model being written based on the `indra2` library. This is a classic <a href=\"https://en.wikipedia.org/wiki/Lotka–Volterra_equations\">predator-prey model</a>, often called \"wolf-sheep\" in the ABM world. The central idea is to model how populations of predators and their prey will cycle in a circumscribed environment.\n",
    "\n",
    "The first thing to do is import the (few!) items we need to get going:"
   ]
  },
  {
   "cell_type": "code",
   "execution_count": 1,
   "metadata": {},
   "outputs": [
    {
     "name": "stderr",
     "output_type": "stream",
     "text": [
      "/Library/Frameworks/Python.framework/Versions/3.6/lib/python3.6/site-packages/scipy/__init__.py:115: UserWarning: Numpy 1.13.3 or above is required for this version of scipy (detected version 1.13.1)\n",
      "  UserWarning)\n"
     ]
    }
   ],
   "source": [
    "from indra.agent import Agent, AgentEncoder\n",
    "from indra.composite import Composite\n",
    "from indra.env import Env"
   ]
  },
  {
   "cell_type": "markdown",
   "metadata": {},
   "source": [
    "Next define a few constants -- these will be params in the fully developed system:"
   ]
  },
  {
   "cell_type": "code",
   "execution_count": 2,
   "metadata": {},
   "outputs": [],
   "source": [
    "NUM_WOLVES = 3\n",
    "NUM_SHEEP = 12\n",
    "\n",
    "WOLF_LIFESPAN = 5\n",
    "WOLF_REPRO_PERIOD = 6\n",
    "\n",
    "SHEEP_LIFESPAN = 8\n",
    "SHEEP_REPRO_PERIOD = 6"
   ]
  },
  {
   "cell_type": "markdown",
   "metadata": {},
   "source": [
    "Now we will define what wolves and sheep do when called upon to act -- the model is far from done at this point, and these actions are trivial, but they illustrate the use of the system:"
   ]
  },
  {
   "cell_type": "code",
   "execution_count": 3,
   "metadata": {},
   "outputs": [],
   "source": [
    "def sheep_action(agent):\n",
    "    print(\"I'm \" + agent.name + \" and I eat grass.\")\n",
    "    \n",
    "def wolf_action(agent):\n",
    "    print(\"I'm \" + agent.name + \" and my remaining life is: \"\n",
    "          + str(agent.duration))"
   ]
  },
  {
   "cell_type": "markdown",
   "metadata": {},
   "source": [
    "Next let's create to helper functions to create wolves and sheep, just to make the code following this a little simpler:"
   ]
  },
  {
   "cell_type": "code",
   "execution_count": 4,
   "metadata": {},
   "outputs": [],
   "source": [
    "def create_wolf(i):\n",
    "    return Agent(\"wolf\" + str(i), duration=WOLF_LIFESPAN,\n",
    "                     action=wolf_action,\n",
    "                     attrs={\"time_to_repr\": WOLF_REPRO_PERIOD})\n",
    "\n",
    "\n",
    "def create_sheep(i):\n",
    "    return Agent(\"sheep\" + str(i), duration=SHEEP_LIFESPAN,\n",
    "                     action=sheep_action,\n",
    "                     attrs={\"time_to_repr\": SHEEP_REPRO_PERIOD})"
   ]
  },
  {
   "cell_type": "markdown",
   "metadata": {},
   "source": [
    "Now we have everything we need to create our populations and put them in a meadow to interact:"
   ]
  },
  {
   "cell_type": "code",
   "execution_count": 5,
   "metadata": {},
   "outputs": [],
   "source": [
    "wolves = Composite(\"wolves\")\n",
    "for i in range(NUM_WOLVES):\n",
    "    wolves += create_wolf(i)\n",
    "\n",
    "sheep = Composite(\"sheep\")\n",
    "for i in range(NUM_SHEEP):\n",
    "    sheep += create_sheep(i)"
   ]
  },
  {
   "cell_type": "markdown",
   "metadata": {},
   "source": [
    "Now we will create a \"meadow\" in which these critters will interact -- the meadow is an instance of `Env`:"
   ]
  },
  {
   "cell_type": "code",
   "execution_count": 6,
   "metadata": {},
   "outputs": [
    {
     "name": "stdout",
     "output_type": "stream",
     "text": [
      "Welcome to Indra, gcallah!\n"
     ]
    }
   ],
   "source": [
    "meadow = Env(\"meadow\")\n",
    "meadow += wolves\n",
    "meadow += sheep"
   ]
  },
  {
   "cell_type": "markdown",
   "metadata": {},
   "source": [
    "Lastly, we set things going in the meadow:"
   ]
  },
  {
   "cell_type": "code",
   "execution_count": null,
   "metadata": {},
   "outputs": [
    {
     "name": "stdout",
     "output_type": "stream",
     "text": [
      "\n",
      "***************\n",
      "Menu of Actions\n",
      "***************\n",
      "1.  Run for N periods\n",
      "2.  Display a population graph\n",
      "3.  Display a scatter plot\n",
      "4.  Examine model data\n",
      "6.  Debug model data\n",
      "0.  Quit\n",
      "Please choose a number from the menu above:\n",
      "3\n",
      "Error when drawing graph: 'Agent' object has no attribute 'get_color'\n",
      "\n",
      "***************\n",
      "Menu of Actions\n",
      "***************\n",
      "1.  Run for N periods\n",
      "2.  Display a population graph\n",
      "3.  Display a scatter plot\n",
      "4.  Examine model data\n",
      "6.  Debug model data\n",
      "0.  Quit\n",
      "Error when drawing graph: 'Agent' object has no attribute 'get_color'\n",
      "Please choose a number from the menu above:\n",
      "3 + 7\n",
      "ERROR: 3 + 7 is an invalid option. Please enter a valid option.\n",
      "\n",
      "***************\n",
      "Menu of Actions\n",
      "***************\n",
      "1.  Run for N periods\n",
      "2.  Display a population graph\n",
      "3.  Display a scatter plot\n",
      "4.  Examine model data\n",
      "6.  Debug model data\n",
      "0.  Quit\n",
      "Error when drawing graph: 'Agent' object has no attribute 'get_color'\n",
      "Please choose a number from the menu above:\n"
     ]
    }
   ],
   "source": [
    "meadow()"
   ]
  },
  {
   "cell_type": "code",
   "execution_count": null,
   "metadata": {},
   "outputs": [],
   "source": [
    "3 + 7"
   ]
  },
  {
   "cell_type": "code",
   "execution_count": null,
   "metadata": {},
   "outputs": [],
   "source": [
    "3 + + 7"
   ]
  },
  {
   "cell_type": "code",
   "execution_count": null,
   "metadata": {},
   "outputs": [],
   "source": [
    "3 + * + 7"
   ]
  },
  {
   "cell_type": "code",
   "execution_count": null,
   "metadata": {},
   "outputs": [],
   "source": []
  }
 ],
 "metadata": {
  "kernelspec": {
   "display_name": "Python 3",
   "language": "python",
   "name": "python3"
  },
  "language_info": {
   "codemirror_mode": {
    "name": "ipython",
    "version": 3
   },
   "file_extension": ".py",
   "mimetype": "text/x-python",
   "name": "python",
   "nbconvert_exporter": "python",
   "pygments_lexer": "ipython3",
   "version": "3.6.2"
  }
 },
 "nbformat": 4,
 "nbformat_minor": 2
}
