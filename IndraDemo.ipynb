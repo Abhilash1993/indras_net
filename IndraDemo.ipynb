{
 "metadata": {
  "name": ""
 },
 "nbformat": 3,
 "nbformat_minor": 0,
 "worksheets": [
  {
   "cells": [
    {
     "cell_type": "heading",
     "level": 1,
     "metadata": {},
     "source": [
      "Exploring an Edgeworth Box in the Indra angent-based modeling system."
     ]
    },
    {
     "cell_type": "markdown",
     "metadata": {},
     "source": [
      "Let's look at the properties we are using in our first run:"
     ]
    },
    {
     "cell_type": "code",
     "collapsed": false,
     "input": [
      "!cat edgebox.props"
     ],
     "language": "python",
     "metadata": {},
     "outputs": [
      {
       "output_type": "stream",
       "stream": "stdout",
       "text": [
        "{\r\n",
        "    \"user_name\": \"gcallah\", \r\n",
        "    \"bea_wine\": 20, \r\n",
        "    \"log_level\": 20, \r\n",
        "    \"log_fname\": \"edgebox_model.txt\", \r\n",
        "    \"al_cheese\": 20, \r\n",
        "    \"bea_cutil\": \"10 - .25 * qty\", \r\n",
        "    \"log_fmode\": \"w\", \r\n",
        "    \"user_type\": \"iPython\", \r\n",
        "    \"al_wutil\": \"10 - .25 * qty\", \r\n",
        "    \"al_wine\": 0, \r\n",
        "    \"al_cutil\": \"10 - .5 * qty\", \r\n",
        "    \"bea_cheese\": 0, \r\n",
        "    \"bea_wutil\": \"10 - .5 * qty\", \r\n",
        "    \"log_format\": \"%(levelname)s:%(message)s\"\r\n",
        "}"
       ]
      }
     ],
     "prompt_number": 1
    },
    {
     "cell_type": "markdown",
     "metadata": {},
     "source": [
      "And now we'll run with those properties:"
     ]
    },
    {
     "cell_type": "code",
     "collapsed": false,
     "input": [
      "run edgebox_run.py"
     ],
     "language": "python",
     "metadata": {},
     "outputs": [
      {
       "output_type": "stream",
       "stream": "stderr",
       "text": [
        "/Users/gcallah/anaconda/envs/py33/lib/python3.3/site-packages/matplotlib/mathtext.py:46: UserWarning: Due to a bug in pyparsing <= 2.0.0 on Python 3.x, packrat parsing has been disabled.  Mathtext rendering will be much slower as a result.  Install pyparsing 2.0.0 or later to improve performance.\n",
        "  warn(\"Due to a bug in pyparsing <= 2.0.0 on Python 3.x, packrat parsing \"\n"
       ]
      },
      {
       "output_type": "stream",
       "stream": "stdout",
       "text": [
        "Welcome, gcallah\n",
        "Running in An Edgeworth Box\n",
        "File: (w)rite properties | e(x)amine log file | (q)uit\n",
        "Edit: (c)ode\n",
        "View: (l)ist agents | (v)isualize | (i)nspect agent | (p)lot agents\n",
        "Tools: (s)tep (default) | (r)un | (d)ebug\n"
       ]
      },
      {
       "name": "stdout",
       "output_type": "stream",
       "stream": "stdout",
       "text": [
        "Choose one of the above and press Enter:s\n"
       ]
      },
      {
       "output_type": "stream",
       "stream": "stdout",
       "text": [
        "Trades this period: 2\n",
        "Albert has gained 18.75 utils and now has: cheese: 18, wine: 2,\n",
        "Beatrice has gained 18.75 utils and now has: cheese: 2, wine: 18,\n",
        "File: (w)rite properties | e(x)amine log file | (q)uit\n",
        "Edit: (c)ode\n",
        "View: (l)ist agents | (v)isualize | (i)nspect agent | (p)lot agents\n",
        "Tools: (s)tep (default) | (r)un | (d)ebug\n"
       ]
      },
      {
       "name": "stdout",
       "output_type": "stream",
       "stream": "stdout",
       "text": [
        "Choose one of the above and press Enter:s\n"
       ]
      },
      {
       "output_type": "stream",
       "stream": "stdout",
       "text": [
        "Trades this period: 2\n",
        "Albert has gained 34.5 utils and now has: cheese: 16, wine: 4,\n",
        "Beatrice has gained 34.5 utils and now has: cheese: 4, wine: 16,\n",
        "File: (w)rite properties | e(x)amine log file | (q)uit\n",
        "Edit: (c)ode\n",
        "View: (l)ist agents | (v)isualize | (i)nspect agent | (p)lot agents\n",
        "Tools: (s)tep (default) | (r)un | (d)ebug\n"
       ]
      },
      {
       "name": "stdout",
       "output_type": "stream",
       "stream": "stdout",
       "text": [
        "Choose one of the above and press Enter:s\n"
       ]
      },
      {
       "output_type": "stream",
       "stream": "stdout",
       "text": [
        "Trades this period: 2\n",
        "Albert has gained 47.25 utils and now has: cheese: 14, wine: 6,\n",
        "Beatrice has gained 47.25 utils and now has: cheese: 6, wine: 14,\n",
        "File: (w)rite properties | e(x)amine log file | (q)uit\n",
        "Edit: (c)ode\n",
        "View: (l)ist agents | (v)isualize | (i)nspect agent | (p)lot agents\n",
        "Tools: (s)tep (default) | (r)un | (d)ebug\n"
       ]
      },
      {
       "name": "stdout",
       "output_type": "stream",
       "stream": "stdout",
       "text": [
        "Choose one of the above and press Enter:s\n"
       ]
      },
      {
       "output_type": "stream",
       "stream": "stdout",
       "text": [
        "Trades this period: 2\n",
        "Albert has gained 57.0 utils and now has: cheese: 12, wine: 8,\n",
        "Beatrice has gained 57.0 utils and now has: cheese: 8, wine: 12,\n",
        "File: (w)rite properties | e(x)amine log file | (q)uit\n",
        "Edit: (c)ode\n",
        "View: (l)ist agents | (v)isualize | (i)nspect agent | (p)lot agents\n",
        "Tools: (s)tep (default) | (r)un | (d)ebug\n"
       ]
      },
      {
       "name": "stdout",
       "output_type": "stream",
       "stream": "stdout",
       "text": [
        "Choose one of the above and press Enter:s\n"
       ]
      },
      {
       "output_type": "stream",
       "stream": "stdout",
       "text": [
        "Trades this period: 2\n",
        "Albert has gained 63.75 utils and now has: cheese: 10, wine: 10,\n",
        "Beatrice has gained 63.75 utils and now has: cheese: 10, wine: 10,\n",
        "File: (w)rite properties | e(x)amine log file | (q)uit\n",
        "Edit: (c)ode\n",
        "View: (l)ist agents | (v)isualize | (i)nspect agent | (p)lot agents\n",
        "Tools: (s)tep (default) | (r)un | (d)ebug\n"
       ]
      },
      {
       "name": "stdout",
       "output_type": "stream",
       "stream": "stdout",
       "text": [
        "Choose one of the above and press Enter:s\n"
       ]
      },
      {
       "output_type": "stream",
       "stream": "stdout",
       "text": [
        "Trades this period: 2\n",
        "Albert has gained 67.5 utils and now has: cheese: 8, wine: 12,\n",
        "Beatrice has gained 67.5 utils and now has: cheese: 12, wine: 8,\n",
        "File: (w)rite properties | e(x)amine log file | (q)uit\n",
        "Edit: (c)ode\n",
        "View: (l)ist agents | (v)isualize | (i)nspect agent | (p)lot agents\n",
        "Tools: (s)tep (default) | (r)un | (d)ebug\n"
       ]
      },
      {
       "name": "stdout",
       "output_type": "stream",
       "stream": "stdout",
       "text": [
        "Choose one of the above and press Enter:s\n"
       ]
      },
      {
       "output_type": "stream",
       "stream": "stdout",
       "text": [
        "Trades this period: 1\n",
        "Albert has gained 68.25 utils and now has: cheese: 7, wine: 13,\n",
        "Beatrice has gained 68.25 utils and now has: cheese: 13, wine: 7,\n",
        "File: (w)rite properties | e(x)amine log file | (q)uit\n",
        "Edit: (c)ode\n",
        "View: (l)ist agents | (v)isualize | (i)nspect agent | (p)lot agents\n",
        "Tools: (s)tep (default) | (r)un | (d)ebug\n"
       ]
      },
      {
       "name": "stdout",
       "output_type": "stream",
       "stream": "stdout",
       "text": [
        "Choose one of the above and press Enter:s\n"
       ]
      },
      {
       "output_type": "stream",
       "stream": "stdout",
       "text": [
        "Trades this period: 0\n",
        "Albert has gained 68.25 utils and now has: cheese: 7, wine: 13,\n",
        "Beatrice has gained 68.25 utils and now has: cheese: 13, wine: 7,\n",
        "We've reached equilibrium.\n",
        "Returning to run-time environment\n"
       ]
      }
     ],
     "prompt_number": 3
    },
    {
     "cell_type": "code",
     "collapsed": false,
     "input": [],
     "language": "python",
     "metadata": {},
     "outputs": []
    }
   ],
   "metadata": {}
  }
 ]
}